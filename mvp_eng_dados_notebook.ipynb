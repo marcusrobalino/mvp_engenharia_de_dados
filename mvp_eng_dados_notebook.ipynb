{
 "cells": [
  {
   "cell_type": "markdown",
   "metadata": {
    "application/vnd.databricks.v1+cell": {
     "cellMetadata": {
      "byteLimit": 2048000,
      "rowLimit": 10000
     },
     "inputWidgets": {},
     "nuid": "f8865d1e-f680-4e72-a174-33fb97b97655",
     "showTitle": false,
     "tableResultSettingsMap": {},
     "title": ""
    }
   },
   "source": [
    "**PUC - Rio | Ciência de Dados e Analytics**\n",
    "---\n",
    "# MVP Engenharia de dados\n",
    "### Marcus Vinicius Robalino de Almeida\n",
    "\n",
    "---\n",
    "\n",
    "## **Objetivo**\n",
    "\n",
    "### **Contexto:**\n",
    "\n",
    "O consumo de séries de TV explodiu globalmente, mas entender os fatores que levam uma série ao sucesso e à aclamação ainda é um desafio complexo. Questões como a relação entre a longevidade de uma série (número de temporadas) e sua avaliação, ou a identificação de gêneros com maior ou menor risco de cancelamento, são fundamentais para a indústria. Produtoras e plataformas de streaming investem recursos consideráveis buscando essas respostas, e nosso dataset do TMDB oferece uma rica fonte de dados reais para essa exploração.\n",
    "\n",
    "### **Problema Central:**\n",
    "\n",
    "Muitas decisões na indústria do entretenimento ainda dependem fortemente da intuição ou de tendências momentâneas. O objetivo deste projeto é ir além do 'achismo', aplicando um pipeline estruturado de engenharia de dados para transformar dados brutos do TMDB em insights claros e *acionáveis*. Buscamos revelar padrões e correlações que podem embasar decisões estratégicas mais sólidas.\n",
    "\n",
    "---\n",
    "\n",
    "### **Perguntas a serem respondidas**\n",
    "\n",
    "1.  Quais gêneros de séries apresentam as melhores médias de avaliação e os maiores índices de popularidade?\n",
    "2.  Existe uma correlação entre o número de temporadas de uma série e sua popularidade ou avaliação média?\n",
    "3.  Quais plataformas de distribuição (networks), com foco nos principais serviços de streaming, hospedam as séries mais populares e bem avaliadas?\n",
    "4.  Qual a distribuição percentual de séries que estão em produção (`Returning Series`), foram finalizadas (`Ended`) ou canceladas (`Canceled`), e como essa distribuição varia entre os gêneros mais relevantes?\n",
    "5.  O idioma original de uma produção tem impacto significativo em sua popularidade e avaliação no cenário global?\n",
    "\n",
    "---\n",
    "\n",
    "### **Como será feito?**\n",
    "\n",
    "-   **Metodologia:**\n",
    "    1.  **Camada Bronze:** Ingestão dos dados brutos do TMDB, obtidos via API do Kaggle, e armazenamento em formato Delta Lake (`bronze.bronze_tv_shows`), mantendo a estrutura original. Esta camada serve como nossa fonte primária e cópia fiel dos dados de origem.\n",
    "    2.  **Camada Silver:** Processamento dos dados brutos. Inclui limpeza (tratamento de nulos, inconsistências), validação, transformação (conversão de tipos, padronização de valores como 'status'), enriquecimento e modelagem. Os dados são organizados em um modelo estrela no schema `silver`, com uma tabela fato (`silver.fact_series`) e dimensões (`silver.dim_genres`, `silver.dim_networks`, `silver.dim_producers`), além de um log de qualidade (`silver.data_quality_log`).\n",
    "    3.  **Camada Gold:** Criação de tabelas agregadas e sumarizadas no schema `gold` (ex: `gold.genre_performance_analysis`, `gold.season_impact_analysis`). Estas tabelas contêm os resultados diretos das análises e estão prontas para consumo por ferramentas de visualização (BI), relatórios ou dashboards, respondendo diretamente às perguntas de negócio.\n",
    "\n",
    "-   **Ferramentas:**\n",
    "    -   **Databricks:** Plataforma unificada para desenvolvimento, execução e gerenciamento do pipeline de dados.\n",
    "    -   **Apache Spark (SQL e PySpark):** Engine de processamento distribuído utilizado para manipulação eficiente de grandes volumes de dados e execução das transformações e análises.\n",
    "    -   **Delta Lake:** Formato de armazenamento otimizado para as tabelas em todas as camadas, oferecendo ACID, versionamento e performance.\n",
    "    -   **KaggleHub API & Library:** Para ingestão programática e eficiente do dataset diretamente do Kaggle.\n",
    "\n",
    "-   **Por que isso importa?** Os insights derivados das análises e os dados preparados na camada Gold podem fornecer subsídios para decisões práticas, como:\n",
    "    -   Apoiar a decisão sobre a duração ideal (número de temporadas) para novas produções, com base em dados históricos de popularidade e avaliação.\n",
    "    -   Informar estratégias de renovação ou cancelamento de séries, utilizando métricas objetivas de desempenho por gênero e plataforma.\n",
    "    -   Identificar oportunidades de investimento em conteúdos de idiomas específicos com alto potencial de qualidade ou popularidade.\n",
    "    -   Gerenciar o risco do portfólio de produções, considerando as taxas de sucesso e cancelamento observadas por gênero.\n"
   ]
  },
  {
   "cell_type": "markdown",
   "metadata": {
    "application/vnd.databricks.v1+cell": {
     "cellMetadata": {},
     "inputWidgets": {},
     "nuid": "bae21543-2693-4880-bf24-0a7b6ea0ead5",
     "showTitle": false,
     "tableResultSettingsMap": {},
     "title": ""
    }
   },
   "source": [
    "## 1. Setup Inicial: Limpeza e Criação de Schemas\n",
    "Limpa execuções anteriores (se existirem) e cria os schemas para as camadas Bronze, Silver e Gold.\n"
   ]
  },
  {
   "cell_type": "code",
   "execution_count": 0,
   "metadata": {
    "application/vnd.databricks.v1+cell": {
     "cellMetadata": {
      "byteLimit": 2048000,
      "implicitDf": true,
      "rowLimit": 10000
     },
     "inputWidgets": {},
     "nuid": "f464fce8-5026-4f2d-84c8-3f323efd24c2",
     "showTitle": true,
     "tableResultSettingsMap": {},
     "title": "Limpa os schemas das camadas para garantir um início limpo"
    }
   },
   "outputs": [
    {
     "output_type": "display_data",
     "data": {
      "text/html": [
       "<style scoped>\n",
       "  .table-result-container {\n",
       "    max-height: 300px;\n",
       "    overflow: auto;\n",
       "  }\n",
       "  table, th, td {\n",
       "    border: 1px solid black;\n",
       "    border-collapse: collapse;\n",
       "  }\n",
       "  th, td {\n",
       "    padding: 5px;\n",
       "  }\n",
       "  th {\n",
       "    text-align: left;\n",
       "  }\n",
       "</style><div class='table-result-container'><table class='table-result'><thead style='background-color: white'><tr></tr></thead><tbody></tbody></table></div>"
      ]
     },
     "metadata": {
      "application/vnd.databricks.v1+output": {
       "addedWidgets": {},
       "aggData": [],
       "aggError": "",
       "aggOverflow": false,
       "aggSchema": [],
       "aggSeriesLimitReached": false,
       "aggType": "",
       "arguments": {},
       "columnCustomDisplayInfos": {},
       "data": [],
       "datasetInfos": [],
       "dbfsResultPath": null,
       "isJsonSchema": true,
       "metadata": {},
       "overflow": false,
       "plotOptions": {
        "customPlotOptions": {},
        "displayType": "table",
        "pivotAggregation": null,
        "pivotColumns": null,
        "xColumns": null,
        "yColumns": null
       },
       "removedWidgets": [],
       "schema": [],
       "type": "table"
      }
     },
     "output_type": "display_data"
    }
   ],
   "source": [
    "%sql\n",
    "DROP DATABASE IF EXISTS bronze CASCADE;\n",
    "DROP DATABASE IF EXISTS silver CASCADE;\n",
    "DROP DATABASE IF EXISTS gold CASCADE;"
   ]
  },
  {
   "cell_type": "code",
   "execution_count": 0,
   "metadata": {
    "application/vnd.databricks.v1+cell": {
     "cellMetadata": {
      "byteLimit": 2048000,
      "implicitDf": true,
      "rowLimit": 10000
     },
     "inputWidgets": {},
     "nuid": "da8eb9eb-6603-478d-b092-b63cfbbe12c1",
     "showTitle": true,
     "tableResultSettingsMap": {},
     "title": "Cria os schemas para cada camada"
    }
   },
   "outputs": [
    {
     "output_type": "display_data",
     "data": {
      "text/html": [
       "<style scoped>\n",
       "  .table-result-container {\n",
       "    max-height: 300px;\n",
       "    overflow: auto;\n",
       "  }\n",
       "  table, th, td {\n",
       "    border: 1px solid black;\n",
       "    border-collapse: collapse;\n",
       "  }\n",
       "  th, td {\n",
       "    padding: 5px;\n",
       "  }\n",
       "  th {\n",
       "    text-align: left;\n",
       "  }\n",
       "</style><div class='table-result-container'><table class='table-result'><thead style='background-color: white'><tr></tr></thead><tbody></tbody></table></div>"
      ]
     },
     "metadata": {
      "application/vnd.databricks.v1+output": {
       "addedWidgets": {},
       "aggData": [],
       "aggError": "",
       "aggOverflow": false,
       "aggSchema": [],
       "aggSeriesLimitReached": false,
       "aggType": "",
       "arguments": {},
       "columnCustomDisplayInfos": {},
       "data": [],
       "datasetInfos": [],
       "dbfsResultPath": null,
       "isJsonSchema": true,
       "metadata": {},
       "overflow": false,
       "plotOptions": {
        "customPlotOptions": {},
        "displayType": "table",
        "pivotAggregation": null,
        "pivotColumns": null,
        "xColumns": null,
        "yColumns": null
       },
       "removedWidgets": [],
       "schema": [],
       "type": "table"
      }
     },
     "output_type": "display_data"
    }
   ],
   "source": [
    "%sql\n",
    "CREATE SCHEMA IF NOT EXISTS bronze COMMENT 'Camada para dados brutos ingeridos';\n",
    "CREATE SCHEMA IF NOT EXISTS silver COMMENT 'Camada para dados limpos, filtrados e enriquecidos';\n",
    "CREATE SCHEMA IF NOT EXISTS gold COMMENT 'Camada para dados agregados e prontos para análise';\n"
   ]
  },
  {
   "cell_type": "markdown",
   "metadata": {
    "application/vnd.databricks.v1+cell": {
     "cellMetadata": {},
     "inputWidgets": {},
     "nuid": "20c87bc4-38b8-451b-9dd4-cf22794d4e4d",
     "showTitle": false,
     "tableResultSettingsMap": {},
     "title": ""
    }
   },
   "source": [
    "### **Coleta**\n",
    "## 2. Camada Bronze: Ingestão de Dados Brutos\n",
    "**Objetivo:** Armazenar os dados brutos do dataset TMDB em seu formato original, servindo como base para as transformações nas camadas seguintes.\n",
    "\n",
    "**Onde os dados foram obtidos?**\n",
    "\n",
    "*   **Base Escolhida:** [TMDB TV Shows Dataset (Kaggle)](https://www.kaggle.com/datasets/asaniczka/full-tmdb-tv-shows-dataset-2023-150k-shows/data) - Um dataset abrangente sobre séries de TV.\n",
    "*   **Licença:** [CC0: Public Domain](https://creativecommons.org/publicdomain/zero/1.0/) - Uso livre para qualquer finalidade.\n",
    "\n",
    "**Como foi feito o processo de ingestão dos dados?**\n",
    "\n",
    "A ingestão inicial na camada Bronze foi feita programaticamente dentro do Databricks. Após avaliar a opção de upload manual do arquivo CSV (que se mostrou menos prática devido a limitações da plataforma Community), optou-se por utilizar a biblioteca `kagglehub` em Python. Essa biblioteca permitiu interagir diretamente com a API do Kaggle para baixar o dataset e carregá-lo em um DataFrame Spark. O DataFrame foi então persistido como uma tabela Delta (`bronze.bronze_tv_shows`), garantindo um processo de ingestão automatizado, reprodutível e mais eficiente."
   ]
  },
  {
   "cell_type": "code",
   "execution_count": 0,
   "metadata": {
    "application/vnd.databricks.v1+cell": {
     "cellMetadata": {
      "byteLimit": 2048000,
      "rowLimit": 10000
     },
     "inputWidgets": {},
     "nuid": "a35b4c41-a948-43a8-a79f-4342b53c65b3",
     "showTitle": false,
     "tableResultSettingsMap": {},
     "title": ""
    }
   },
   "outputs": [
    {
     "output_type": "stream",
     "name": "stdout",
     "output_type": "stream",
     "text": [
      "Python interpreter will be restarted.\nCollecting kagglehub[pandas-datasets]\n  Downloading kagglehub-0.3.11-py3-none-any.whl (63 kB)\nCollecting pyyaml\n  Downloading PyYAML-6.0.2-cp39-cp39-manylinux_2_17_x86_64.manylinux2014_x86_64.whl (737 kB)\nRequirement already satisfied: packaging in /databricks/python3/lib/python3.9/site-packages (from kagglehub[pandas-datasets]) (21.3)\nCollecting tqdm\n  Downloading tqdm-4.67.1-py3-none-any.whl (78 kB)\nRequirement already satisfied: requests in /databricks/python3/lib/python3.9/site-packages (from kagglehub[pandas-datasets]) (2.27.1)\nRequirement already satisfied: pandas in /databricks/python3/lib/python3.9/site-packages (from kagglehub[pandas-datasets]) (1.4.2)\nRequirement already satisfied: pyparsing!=3.0.5,>=2.0.2 in /databricks/python3/lib/python3.9/site-packages (from packaging->kagglehub[pandas-datasets]) (3.0.4)\nRequirement already satisfied: python-dateutil>=2.8.1 in /databricks/python3/lib/python3.9/site-packages (from pandas->kagglehub[pandas-datasets]) (2.8.2)\nRequirement already satisfied: numpy>=1.18.5 in /databricks/python3/lib/python3.9/site-packages (from pandas->kagglehub[pandas-datasets]) (1.21.5)\nRequirement already satisfied: pytz>=2020.1 in /databricks/python3/lib/python3.9/site-packages (from pandas->kagglehub[pandas-datasets]) (2021.3)\nRequirement already satisfied: six>=1.5 in /databricks/python3/lib/python3.9/site-packages (from python-dateutil>=2.8.1->pandas->kagglehub[pandas-datasets]) (1.16.0)\nRequirement already satisfied: charset-normalizer~=2.0.0 in /databricks/python3/lib/python3.9/site-packages (from requests->kagglehub[pandas-datasets]) (2.0.4)\nRequirement already satisfied: idna<4,>=2.5 in /databricks/python3/lib/python3.9/site-packages (from requests->kagglehub[pandas-datasets]) (3.3)\nRequirement already satisfied: certifi>=2017.4.17 in /databricks/python3/lib/python3.9/site-packages (from requests->kagglehub[pandas-datasets]) (2021.10.8)\nRequirement already satisfied: urllib3<1.27,>=1.21.1 in /databricks/python3/lib/python3.9/site-packages (from requests->kagglehub[pandas-datasets]) (1.26.9)\nInstalling collected packages: tqdm, pyyaml, kagglehub\nSuccessfully installed kagglehub-0.3.11 pyyaml-6.0.2 tqdm-4.67.1\nPython interpreter will be restarted.\n"
     ]
    }
   ],
   "source": [
    "%pip install kagglehub[pandas-datasets]"
   ]
  },
  {
   "cell_type": "code",
   "execution_count": 0,
   "metadata": {
    "application/vnd.databricks.v1+cell": {
     "cellMetadata": {
      "byteLimit": 2048000,
      "rowLimit": 10000
     },
     "inputWidgets": {},
     "nuid": "0dc6c29c-0bbb-4075-820c-9b715d932472",
     "showTitle": true,
     "tableResultSettingsMap": {},
     "title": "Carga de dados"
    }
   },
   "outputs": [
    {
     "output_type": "display_data",
     "data": {
      "application/vnd.databricks.v1+bamboolib_hint": "{\"pd.DataFrames\": [], \"version\": \"0.0.1\"}",
      "text/plain": []
     },
     "metadata": {},
     "output_type": "display_data"
    },
    {
     "output_type": "stream",
     "name": "stdout",
     "output_type": "stream",
     "text": [
      "Iniciando download do dataset TMDB via KaggleHub...\nDownloading from https://www.kaggle.com/api/v1/datasets/download/asaniczka/full-tmdb-tv-shows-dataset-2023-150k-shows?dataset_version_number=22...\n"
     ]
    },
    {
     "output_type": "stream",
     "name": "stderr",
     "output_type": "stream",
     "text": [
      "\r  0%|          | 0.00/30.8M [00:00<?, ?B/s]\r 13%|█▎        | 4.00M/30.8M [00:00<00:00, 41.9MB/s]\r 29%|██▉       | 9.00M/30.8M [00:00<00:00, 36.5MB/s]\r 42%|████▏     | 13.0M/30.8M [00:00<00:00, 23.1MB/s]\r 71%|███████▏  | 22.0M/30.8M [00:00<00:00, 40.5MB/s]\r 97%|█████████▋| 30.0M/30.8M [00:00<00:00, 51.2MB/s]\r100%|██████████| 30.8M/30.8M [00:00<00:00, 40.6MB/s]"
     ]
    },
    {
     "output_type": "stream",
     "name": "stdout",
     "output_type": "stream",
     "text": [
      "Extracting files...\n"
     ]
    },
    {
     "output_type": "stream",
     "name": "stderr",
     "output_type": "stream",
     "text": [
      "\n"
     ]
    },
    {
     "output_type": "stream",
     "name": "stdout",
     "output_type": "stream",
     "text": [
      "Dataset baixado em: /root/.cache/kagglehub/datasets/asaniczka/full-tmdb-tv-shows-dataset-2023-150k-shows/versions/22\nCSV lido com Pandas com sucesso.\nDataFrame Spark criado a partir do Pandas.\n✅ Tabela bronze.bronze_tv_shows criada com sucesso na camada Bronze!\n"
     ]
    }
   ],
   "source": [
    "# Imports necessários\n",
    "import kagglehub\n",
    "import pandas as pd\n",
    "from pyspark.sql import SparkSession\n",
    "\n",
    "# Inicializa Spark Session\n",
    "spark = SparkSession.builder.appName(\"TMDB Bronze Load\").getOrCreate()\n",
    "\n",
    "# Download do dataset usando KaggleHub\n",
    "print(\"Iniciando download do dataset TMDB via KaggleHub...\")\n",
    "dataset_path = kagglehub.dataset_download(\"asaniczka/full-tmdb-tv-shows-dataset-2023-150k-shows\")\n",
    "print(f\"Dataset baixado em: {dataset_path}\")\n",
    "\n",
    "# Leitura do CSV com Pandas\n",
    "try:\n",
    "    df_pandas = pd.read_csv(f\"{dataset_path}/TMDB_tv_dataset_v3.csv\")\n",
    "    print(\"CSV lido com Pandas com sucesso.\")\n",
    "except Exception as e:\n",
    "    print(f\"Erro ao ler o CSV com Pandas: {e}\")\n",
    "    # Tentar com Spark CSV reader como fallback ou alternativa principal\n",
    "    # print(\"Tentando leitura com Spark CSV reader...\")\n",
    "    # spark_df = spark.read.csv(f\"file:///{dataset_path}/TMDB_tv_dataset_v3.csv\", header=True, inferSchema=True, escape=\"\\\"\", multiLine=True)\n",
    "    # print(\"CSV lido com Spark com sucesso.\")\n",
    "    dbutils.notebook.exit(\"Falha ao ler o CSV.\") # Sai se não conseguir ler\n",
    "\n",
    "# Criação do DataFrame Spark a partir do Pandas DataFrame\n",
    "try:\n",
    "    spark_df = spark.createDataFrame(df_pandas)\n",
    "    print(\"DataFrame Spark criado a partir do Pandas.\")\n",
    "except Exception as e:\n",
    "     print(f\"Erro ao criar DataFrame Spark: {e}\")\n",
    "     dbutils.notebook.exit(\"Falha ao criar DataFrame Spark.\")\n",
    "\n",
    "# Salvando como tabela Delta na camada Bronze (schema bronze)\n",
    "table_name = \"bronze.bronze_tv_shows\"\n",
    "spark_df.write.format(\"delta\").mode(\"overwrite\").saveAsTable(table_name)\n",
    "\n",
    "print(f\"✅ Tabela {table_name} criada com sucesso na camada Bronze!\")\n"
   ]
  },
  {
   "cell_type": "markdown",
   "metadata": {
    "application/vnd.databricks.v1+cell": {
     "cellMetadata": {},
     "inputWidgets": {},
     "nuid": "601f5483-88ed-42dd-8311-ba7b52d7b745",
     "showTitle": false,
     "tableResultSettingsMap": {},
     "title": ""
    }
   },
   "source": [
    "### Esquema da Tabela Bronze\n",
    "\n",
    "**Catálogo de dados** </br>\n",
    "**1. Tabela: `bronze.bronze_tv_shows`**\n",
    "\n",
    "*   **Descrição:** Tabela contendo os dados brutos das séries de TV conforme fornecidos no dataset original do TMDB baixado do Kaggle. Nenhuma limpeza ou transformação significativa foi aplicada nesta camada.\n",
    "*   **Granularidade:** Uma linha por série de TV presente no arquivo CSV original.\n",
    "\n",
    "| Coluna                 | Tipo de Dado (Inferido) | Descrição (Original)                                         | Domínio / Valores Esperados (Bruto)                                                                                                |\n",
    "| :--------------------- | :---------------------- | :----------------------------------------------------------- | :--------------------------------------------------------------------------------------------------------------------------------- |\n",
    "| `id`                   | `long`                  | ID único da série no TMDB                                    | Numérico (Inteiro positivo). Chave primária potencial.                                                                           |\n",
    "| `name`                 | `string`                | Nome principal da série (geralmente em inglês)               | Textual.                                                                                                                           |\n",
    "| `number_of_seasons`    | `long`                  | Número de temporadas reportado                               | Numérico (Inteiro >= 0). Pode conter NULOS ou valores não numéricos se a fonte for inconsistente (embora inferido como long).        |\n",
    "| `number_of_episodes`   | `long`                  | Número de episódios reportado                                | Numérico (Inteiro >= 0). Pode conter NULOS ou valores não numéricos.                                                              |\n",
    "| `original_language`    | `string`                | Código do idioma original (ISO 639-1)                        | Textual (e.g., 'en', 'es', 'ko'). Pode ser NULO.                                                                                    |\n",
    "| `vote_count`           | `long`                  | Contagem total de votos                                      | Numérico (Inteiro >= 0).                                                                                                           |\n",
    "| `vote_average`         | `double`                | Média das avaliações (0-10)                                  | Numérico (0.0 a 10.0).                                                                                                             |\n",
    "| `overview`             | `string`                | Sinopse ou descrição textual da série                        | Textual (pode ser longo, conter caracteres especiais). Pode ser NULO ou vazio.                                                     |\n",
    "| `adult`                | `boolean`               | Indicador se a série é conteúdo adulto                       | Booleano (TRUE/FALSE). Fonte original pode ter 0/1 ou outras representações; Spark tenta inferir booleano.                           |\n",
    "| `backdrop_path`        | `string`                | Caminho parcial para a imagem de fundo (backdrop) no TMDB    | Textual (formato como `/xyz.jpg`). Pode ser NULO.                                                                                 |\n",
    "| `first_air_date`       | `string`                | Data da primeira exibição (formato texto)                    | Textual (esperado 'YYYY-MM-DD'). Pode conter datas inválidas, NULOS, ou strings vazias. **Não é tipo DATE nesta camada.**             |\n",
    "| `last_air_date`        | `string`                | Data da última exibição (formato texto)                      | Textual (esperado 'YYYY-MM-DD'). Pode conter datas inválidas, NULOS, ou strings vazias. **Não é tipo DATE nesta camada.**             |\n",
    "| `homepage`             | `string`                | URL da página oficial da série                               | Textual (formato URL). Pode ser NULO ou vazio.                                                                                     |\n",
    "| `in_production`        | `boolean`               | Indicador se a série está atualmente em produção             | Booleano (TRUE/FALSE).                                                                                                             |\n",
    "| `original_name`        | `string`                | Nome da série no idioma original                             | Textual. Pode ser igual a `name`.                                                                                                  |\n",
    "| `popularity`           | `double`                | Índice de popularidade calculado pelo TMDB                   | Numérico (>= 0.0).                                                                                                                 |\n",
    "| `poster_path`          | `string`                | Caminho parcial para a imagem do pôster no TMDB              | Textual (formato como `/xyz.jpg`). Pode ser NULO.                                                                                 |\n",
    "| `type`                 | `string`                | Tipo da série                                                | Textual (e.g., 'Scripted', 'Reality', 'Documentary'). Pode ter valores inconsistentes ou NULOS.                                   |\n",
    "| `status`               | `string`                | Status de produção da série                                  | Textual (e.g., 'Ended', 'Returning Series', 'Canceled'). Pode ter valores inconsistentes (como 'Returning'), NULOS.                  |\n",
    "| `tagline`              | `string`                | Tagline ou slogan da série                                   | Textual. Pode ser NULO ou vazio.                                                                                                   |\n",
    "| `genres`               | `string`                | Lista de gêneros concatenada em uma string                   | Textual (geralmente nomes separados por vírgula, e.g., 'Comedy,Drama'). Pode ser NULO, vazio, ou ter formatos variados.             |\n",
    "| `created_by`           | `string`                | Criador(es) da série (formato string)                        | Textual (pode ser uma lista em formato JSON-like ou outro). Pode ser NULO ou vazio.                                                |\n",
    "| `languages`            | `string`                | Lista de idiomas disponíveis (concatenada)                   | Textual (geralmente códigos ISO 639-1 separados por vírgula). Pode ser NULO ou vazio.                                              |\n",
    "| `networks`             | `string`                | Lista de redes/plataformas (concatenada)                   | Textual (nomes separados por vírgula). Pode ser NULO, vazio, conter nomes inconsistentes.                                          |\n",
    "| `origin_country`       | `string`                | Lista de países de origem (concatenada)                      | Textual (códigos ISO 3166-1 separados por vírgula). Pode ser NULO ou vazio.                                                         |\n",
    "| `spoken_languages`     | `string`                | Lista de idiomas falados (formato string)                    | Textual (pode ser uma lista em formato JSON-like ou outro). Pode ser NULO ou vazio.                                                |\n",
    "| `production_companies` | `string`                | Lista de companhias produtoras (concatenada)                 | Textual (nomes separados por vírgula). Pode ser NULO, vazio, conter nomes inconsistentes.                                          |\n",
    "| `production_countries` | `string`                | Lista de países de produção (concatenada)                    | Textual (códigos ISO 3166-1 separados por vírgula). Pode ser NULO ou vazio.                                                         |\n",
    "| `episode_run_time`     | `long`                  | Duração média do episódio em minutos                         | Numérico (Inteiro >= 0). Pode conter NULOS ou valores não numéricos na fonte.                                                      |"
   ]
  },
  {
   "cell_type": "code",
   "execution_count": 0,
   "metadata": {
    "application/vnd.databricks.v1+cell": {
     "cellMetadata": {
      "byteLimit": 2048000,
      "implicitDf": true,
      "rowLimit": 10000
     },
     "inputWidgets": {},
     "nuid": "2d396da5-1748-483f-bf0c-c76e50d30147",
     "showTitle": true,
     "tableResultSettingsMap": {},
     "title": "Mostra o esquema da tabela bruta"
    }
   },
   "outputs": [
    {
     "output_type": "display_data",
     "data": {
      "text/html": [
       "<style scoped>\n",
       "  .table-result-container {\n",
       "    max-height: 300px;\n",
       "    overflow: auto;\n",
       "  }\n",
       "  table, th, td {\n",
       "    border: 1px solid black;\n",
       "    border-collapse: collapse;\n",
       "  }\n",
       "  th, td {\n",
       "    padding: 5px;\n",
       "  }\n",
       "  th {\n",
       "    text-align: left;\n",
       "  }\n",
       "</style><div class='table-result-container'><table class='table-result'><thead style='background-color: white'><tr><th>col_name</th><th>data_type</th><th>comment</th></tr></thead><tbody><tr><td>id</td><td>bigint</td><td>null</td></tr><tr><td>name</td><td>string</td><td>null</td></tr><tr><td>number_of_seasons</td><td>bigint</td><td>null</td></tr><tr><td>number_of_episodes</td><td>bigint</td><td>null</td></tr><tr><td>original_language</td><td>string</td><td>null</td></tr><tr><td>vote_count</td><td>bigint</td><td>null</td></tr><tr><td>vote_average</td><td>double</td><td>null</td></tr><tr><td>overview</td><td>string</td><td>null</td></tr><tr><td>adult</td><td>boolean</td><td>null</td></tr><tr><td>backdrop_path</td><td>string</td><td>null</td></tr><tr><td>first_air_date</td><td>string</td><td>null</td></tr><tr><td>last_air_date</td><td>string</td><td>null</td></tr><tr><td>homepage</td><td>string</td><td>null</td></tr><tr><td>in_production</td><td>boolean</td><td>null</td></tr><tr><td>original_name</td><td>string</td><td>null</td></tr><tr><td>popularity</td><td>double</td><td>null</td></tr><tr><td>poster_path</td><td>string</td><td>null</td></tr><tr><td>type</td><td>string</td><td>null</td></tr><tr><td>status</td><td>string</td><td>null</td></tr><tr><td>tagline</td><td>string</td><td>null</td></tr><tr><td>genres</td><td>string</td><td>null</td></tr><tr><td>created_by</td><td>string</td><td>null</td></tr><tr><td>languages</td><td>string</td><td>null</td></tr><tr><td>networks</td><td>string</td><td>null</td></tr><tr><td>origin_country</td><td>string</td><td>null</td></tr><tr><td>spoken_languages</td><td>string</td><td>null</td></tr><tr><td>production_companies</td><td>string</td><td>null</td></tr><tr><td>production_countries</td><td>string</td><td>null</td></tr><tr><td>episode_run_time</td><td>bigint</td><td>null</td></tr></tbody></table></div>"
      ]
     },
     "metadata": {
      "application/vnd.databricks.v1+output": {
       "addedWidgets": {},
       "aggData": [],
       "aggError": "",
       "aggOverflow": false,
       "aggSchema": [],
       "aggSeriesLimitReached": false,
       "aggType": "",
       "arguments": {},
       "columnCustomDisplayInfos": {},
       "data": [
        [
         "id",
         "bigint",
         null
        ],
        [
         "name",
         "string",
         null
        ],
        [
         "number_of_seasons",
         "bigint",
         null
        ],
        [
         "number_of_episodes",
         "bigint",
         null
        ],
        [
         "original_language",
         "string",
         null
        ],
        [
         "vote_count",
         "bigint",
         null
        ],
        [
         "vote_average",
         "double",
         null
        ],
        [
         "overview",
         "string",
         null
        ],
        [
         "adult",
         "boolean",
         null
        ],
        [
         "backdrop_path",
         "string",
         null
        ],
        [
         "first_air_date",
         "string",
         null
        ],
        [
         "last_air_date",
         "string",
         null
        ],
        [
         "homepage",
         "string",
         null
        ],
        [
         "in_production",
         "boolean",
         null
        ],
        [
         "original_name",
         "string",
         null
        ],
        [
         "popularity",
         "double",
         null
        ],
        [
         "poster_path",
         "string",
         null
        ],
        [
         "type",
         "string",
         null
        ],
        [
         "status",
         "string",
         null
        ],
        [
         "tagline",
         "string",
         null
        ],
        [
         "genres",
         "string",
         null
        ],
        [
         "created_by",
         "string",
         null
        ],
        [
         "languages",
         "string",
         null
        ],
        [
         "networks",
         "string",
         null
        ],
        [
         "origin_country",
         "string",
         null
        ],
        [
         "spoken_languages",
         "string",
         null
        ],
        [
         "production_companies",
         "string",
         null
        ],
        [
         "production_countries",
         "string",
         null
        ],
        [
         "episode_run_time",
         "bigint",
         null
        ]
       ],
       "datasetInfos": [],
       "dbfsResultPath": null,
       "isJsonSchema": true,
       "metadata": {},
       "overflow": false,
       "plotOptions": {
        "customPlotOptions": {},
        "displayType": "table",
        "pivotAggregation": null,
        "pivotColumns": null,
        "xColumns": null,
        "yColumns": null
       },
       "removedWidgets": [],
       "schema": [
        {
         "metadata": "{\"comment\":\"name of the column\"}",
         "name": "col_name",
         "type": "\"string\""
        },
        {
         "metadata": "{\"comment\":\"data type of the column\"}",
         "name": "data_type",
         "type": "\"string\""
        },
        {
         "metadata": "{\"comment\":\"comment of the column\"}",
         "name": "comment",
         "type": "\"string\""
        }
       ],
       "type": "table"
      }
     },
     "output_type": "display_data"
    }
   ],
   "source": [
    "%sql\n",
    "DESCRIBE TABLE bronze.bronze_tv_shows;"
   ]
  },
  {
   "cell_type": "markdown",
   "metadata": {
    "application/vnd.databricks.v1+cell": {
     "cellMetadata": {},
     "inputWidgets": {},
     "nuid": "8e85e0fa-c278-457e-ac01-b051791f79bc",
     "showTitle": false,
     "tableResultSettingsMap": {},
     "title": ""
    }
   },
   "source": [
    "## 3. Camada Silver: Limpeza e Transformação\n",
    "**Objetivo:** Transformar os dados brutos da Bronze em tabelas limpas, com tipos corrigidos, dados filtrados e modelagem dimensional (estrela).\n",
    "\n",
    "### Catálogo de dados\n",
    "**Camada Silver** </br>\n",
    "A camada Silver contém dados limpos, transformados e modelados dimensionalmente, prontos para análises mais profundas.\n",
    "\n",
    "**1. Tabela: `silver.fact_series`**\n",
    "\n",
    "*   **Descrição:** Tabela fato central contendo métricas e atributos principais das séries de TV, filtradas por relevância (`vote_count > 100`).\n",
    "*   **Granularidade:** Uma linha por série de TV que atende aos critérios de filtro.\n",
    "\n",
    "| Coluna              | Tipo de Dado | Descrição                                                    | Domínio / Valores Esperados                                                                                                  |\n",
    "| :------------------ | :----------- | :----------------------------------------------------------- | :--------------------------------------------------------------------------------------------------------------------------- |\n",
    "| `id`                | `bigint`     | ID único da série no TMDB (Chave Primária)                   | Numérico (Inteiro positivo único)                                                                                            |\n",
    "| `name`              | `string`     | Nome oficial da série                                        | Textual (Nome da série)                                                                                                      |\n",
    "| `vote_average`      | `double`     | Média de avaliações (0-10)                                   | Numérico (0.0 a 10.0)                                                                                                        |\n",
    "| `vote_count`        | `bigint`     | Quantidade total de votos recebidos                          | Numérico (Inteiro > 100, conforme filtro aplicado na criação da tabela)                                                      |\n",
    "| `number_of_seasons` | `bigint`     | Número de temporadas produzidas                              | Numérico (Inteiro >= 0)                                                                                                     |\n",
    "| `number_of_episodes`| `bigint`     | Número total de episódios                                    | Numérico (Inteiro >= 0)                                                                                                     |\n",
    "| `first_air_date`    | `date`       | Data de estreia da primeira temporada                       | Data (YYYY-MM-DD), pode ser NULO                                                                                             |\n",
    "| `last_air_date`     | `date`       | Data do último episódio exibido                              | Data (YYYY-MM-DD), pode ser NULO                                                                                             |\n",
    "| `original_language` | `string`     | Idioma original da produção (código ISO 639-1)             | Textual (Código de 2 letras, e.g., 'en', 'es', 'ko', 'ja', 'fr'). Pode ser NULO.                                             |\n",
    "| `origin_country`    | `string`     | País de origem (código ISO 3166-1)                           | Textual (Código de 2 letras, e.g., 'US', 'GB', 'JP', 'KR'). Pode ser NULO ou conter múltiplos códigos separados por vírgula na origem (Bronze). |\n",
    "| `popularity`        | `double`     | Índice de popularidade no TMDB                               | Numérico (>= 0.0)                                                                                                            |\n",
    "| `status`            | `string`     | Status de produção (limpo e padronizado)                     | Categórico ('Ended', 'Returning Series', 'Canceled', 'In Production', 'Pilot', 'Planned', 'Unknown') - Verificar valores exatos na fonte ou na tabela. |\n",
    "| `in_production`     | `boolean`    | Booleano indicando se a série ainda está em produção         | Booleano (TRUE, FALSE)                                                                                                       |\n",
    "| `series_type`       | `string`     | Tipo da série (e.g., Scripted, Reality, Documentary)         | Categórico ('Scripted', 'Reality', 'Documentary', 'News', 'Talk Show', 'Miniseries', 'Video', etc.) - Verificar valores exatos. |\n",
    "\n",
    "**2. Tabela: `silver.dim_genres`**\n",
    "\n",
    "*   **Descrição:** Dimensão de Gêneros das séries. Relação N:M com `fact_series`.\n",
    "*   **Granularidade:** Uma linha por par (série, gênero).\n",
    "\n",
    "| Coluna     | Tipo de Dado | Descrição                                               | Domínio / Valores Esperados                                                                 |\n",
    "| :--------- | :----------- | :------------------------------------------------------ | :------------------------------------------------------------------------------------------ |\n",
    "| `serie_id` | `bigint`     | ID da série (Chave Estrangeira para `fact_series.id`) | Numérico (Inteiro positivo, corresponde a um `id` em `fact_series`)                         |\n",
    "| `genre`    | `string`     | Gênero associado à série                                | Categórico (e.g., 'Comedy', 'Drama', 'Action & Adventure', 'Animation', 'Sci-Fi & Fantasy') |\n",
    "\n",
    "**3. Tabela: `silver.dim_networks`**\n",
    "\n",
    "*   **Descrição:** Dimensão de Redes/Plataformas das séries. Relação N:M com `fact_series`.\n",
    "*   **Granularidade:** Uma linha por par (série, rede/plataforma).\n",
    "\n",
    "| Coluna     | Tipo de Dado | Descrição                                               | Domínio / Valores Esperados                                                         |\n",
    "| :--------- | :----------- | :------------------------------------------------------ | :---------------------------------------------------------------------------------- |\n",
    "| `serie_id` | `bigint`     | ID da série (Chave Estrangeira para `fact_series.id`) | Numérico (Inteiro positivo, corresponde a um `id` em `fact_series`)                 |\n",
    "| `network`  | `string`     | Rede/Plataforma de distribuição associada à série       | Categórico (Alta cardinalidade, e.g., 'Netflix', 'HBO', 'Disney+', 'BBC One', 'CBS') |\n",
    "\n",
    "**4. Tabela: `silver.dim_producers`**\n",
    "\n",
    "*   **Descrição:** Dimensão de Empresas Produtoras das séries. Relação N:M com `fact_series`.\n",
    "*   **Granularidade:** Uma linha por par (série, empresa produtora).\n",
    "\n",
    "| Coluna               | Tipo de Dado | Descrição                                                 | Domínio / Valores Esperados                                                               |\n",
    "| :------------------- | :----------- | :-------------------------------------------------------- | :---------------------------------------------------------------------------------------- |\n",
    "| `serie_id`           | `bigint`     | ID da série (Chave Estrangeira para `fact_series.id`)   | Numérico (Inteiro positivo, corresponde a um `id` em `fact_series`)                       |\n",
    "| `production_company` | `string`     | Empresa produtora associada à série                      | Categórico (Muito alta cardinalidade, e.g., 'Warner Bros. Television', 'Netflix', 'HBO') |\n",
    "\n",
    "**5. Tabela: `silver.data_quality_log`**\n",
    "\n",
    "*   **Descrição:** Log com métricas de qualidade calculadas sobre a tabela `silver.fact_series`.\n",
    "*   **Granularidade:** Uma linha por execução do pipeline (ou conforme definido na lógica de atualização).\n",
    "\n",
    "| Coluna                 | Tipo de Dado | Descrição                                                          | Domínio / Valores Esperados                          |\n",
    "| :--------------------- | :----------- | :----------------------------------------------------------------- | :--------------------------------------------------- |\n",
    "| `total_series_silver`  | `bigint`     | Número total de séries na tabela `silver.fact_series`              | Numérico (Inteiro >= 0)                              |\n",
    "| `unique_ids_silver`    | `bigint`     | Número de IDs únicos na tabela `silver.fact_series`                | Numérico (Inteiro >= 0, idealmente = total_series) |\n",
    "| `avg_votes_silver`     | `double`     | Média da quantidade de votos por série na `silver.fact_series`     | Numérico (>= 0.0, provavelmente > 100)              |\n",
    "| `count_status_unknown` | `bigint`     | Número de séries com status 'Unknown' na `silver.fact_series`      | Numérico (Inteiro >= 0)                              |\n",
    "| `log_timestamp`        | `timestamp`  | Timestamp de quando o log de qualidade foi gerado                  | Timestamp (YYYY-MM-DD HH:MM:SS.ffffff)             |\n",
    "\n",
    "---"
   ]
  },
  {
   "cell_type": "code",
   "execution_count": 0,
   "metadata": {
    "application/vnd.databricks.v1+cell": {
     "cellMetadata": {
      "byteLimit": 2048000,
      "rowLimit": 10000
     },
     "inputWidgets": {},
     "nuid": "dcb7e2ba-0156-43cb-a211-a7bf1e778438",
     "showTitle": false,
     "tableResultSettingsMap": {},
     "title": ""
    }
   },
   "outputs": [
    {
     "output_type": "display_data",
     "data": {
      "text/html": [
       "<p style='color:red;'>Erro: Arquivo de imagem não encontrado em 'https://github.com/a6d77fe8-2f64-4514-9fde-2c7921775cf8'. Faça o upload ou corrija o caminho.</p>"
      ]
     },
     "metadata": {
      "application/vnd.databricks.v1+output": {
       "addedWidgets": {},
       "arguments": {},
       "data": "<p style='color:red;'>Erro: Arquivo de imagem não encontrado em 'https://github.com/a6d77fe8-2f64-4514-9fde-2c7921775cf8'. Faça o upload ou corrija o caminho.</p>",
       "datasetInfos": [],
       "metadata": {},
       "removedWidgets": [],
       "textData": null,
       "type": "htmlSandbox"
      }
     },
     "output_type": "display_data"
    }
   ],
   "source": [
    "%python\n",
    "import base64\n",
    "import os\n",
    "\n",
    "image_path = \"https://github.com/a6d77fe8-2f64-4514-9fde-2c7921775cf8\"\n",
    "\n",
    "if os.path.exists(image_path):\n",
    "    with open(image_path, \"rb\") as image_file:\n",
    "        image_data = image_file.read()\n",
    "    b64_string = base64.b64encode(image_data).decode('utf-8')\n",
    "    image_type = \"png\"\n",
    "    html_code = f'<img src=\"data:image/{image_type};base64,{b64_string}\" alt=\"Diagrama ER da Camada Silver\" style=\"max-width: 800px; height: auto;\" />' \n",
    "    displayHTML(html_code)\n",
    "    print(f\"Imagem '{image_path}' exibida via displayHTML.\") # Mensagem de confirmação\n",
    "\n",
    "else:\n",
    "    error_html = f\"<p style='color:red;'>Erro: Arquivo de imagem não encontrado em '{image_path}'. Faça o upload ou corrija o caminho.</p>\"\n",
    "    displayHTML(error_html)"
   ]
  },
  {
   "cell_type": "markdown",
   "metadata": {
    "application/vnd.databricks.v1+cell": {
     "cellMetadata": {},
     "inputWidgets": {},
     "nuid": "d3dda07e-64d3-4e14-a7c9-2257bef2ec26",
     "showTitle": false,
     "tableResultSettingsMap": {},
     "title": ""
    }
   },
   "source": [
    "### 3.1. Criação da Tabela Fato: `silver.fact_series`\n",
    "\n",
    "Cria a tabela fato principal, selecionando colunas relevantes, aplicando filtros iniciais, tratando tipos de dados e limpando valores.\n"
   ]
  },
  {
   "cell_type": "code",
   "execution_count": 0,
   "metadata": {
    "application/vnd.databricks.v1+cell": {
     "cellMetadata": {
      "byteLimit": 2048000,
      "implicitDf": true,
      "rowLimit": 10000
     },
     "inputWidgets": {},
     "nuid": "1f779cef-7b14-4c18-9c51-e2aa3a997e43",
     "showTitle": true,
     "tableResultSettingsMap": {},
     "title": "Criação da tabela fato"
    }
   },
   "outputs": [
    {
     "output_type": "display_data",
     "data": {
      "text/html": [
       "<style scoped>\n",
       "  .table-result-container {\n",
       "    max-height: 300px;\n",
       "    overflow: auto;\n",
       "  }\n",
       "  table, th, td {\n",
       "    border: 1px solid black;\n",
       "    border-collapse: collapse;\n",
       "  }\n",
       "  th, td {\n",
       "    padding: 5px;\n",
       "  }\n",
       "  th {\n",
       "    text-align: left;\n",
       "  }\n",
       "</style><div class='table-result-container'><table class='table-result'><thead style='background-color: white'><tr><th>path</th><th>metrics</th></tr></thead><tbody><tr><td>dbfs:/user/hive/warehouse/silver.db/fact_series</td><td>List(0, 0, List(null, null, 0.0, 0, 0), List(null, null, 0.0, 0, 0), 0, List(minCubeSize(107374182400), List(0, 0), List(1, 130072), 0, List(0, 0), 0, null), 0, 1, 1, false, 0, 0, 1744075906631, 1744075909313, 8, 0, null, List(0, 0), 14, 14, 0)</td></tr></tbody></table></div>"
      ]
     },
     "metadata": {
      "application/vnd.databricks.v1+output": {
       "addedWidgets": {},
       "aggData": [],
       "aggError": "",
       "aggOverflow": false,
       "aggSchema": [],
       "aggSeriesLimitReached": false,
       "aggType": "",
       "arguments": {},
       "columnCustomDisplayInfos": {},
       "data": [
        [
         "dbfs:/user/hive/warehouse/silver.db/fact_series",
         [
          0,
          0,
          [
           null,
           null,
           0.0,
           0,
           0
          ],
          [
           null,
           null,
           0.0,
           0,
           0
          ],
          0,
          [
           "minCubeSize(107374182400)",
           [
            0,
            0
           ],
           [
            1,
            130072
           ],
           0,
           [
            0,
            0
           ],
           0,
           null
          ],
          0,
          1,
          1,
          false,
          0,
          0,
          1744075906631,
          1744075909313,
          8,
          0,
          null,
          [
           0,
           0
          ],
          14,
          14,
          0
         ]
        ]
       ],
       "datasetInfos": [],
       "dbfsResultPath": null,
       "isJsonSchema": true,
       "metadata": {},
       "overflow": false,
       "plotOptions": {
        "customPlotOptions": {},
        "displayType": "table",
        "pivotAggregation": null,
        "pivotColumns": null,
        "xColumns": null,
        "yColumns": null
       },
       "removedWidgets": [],
       "schema": [
        {
         "metadata": "{}",
         "name": "path",
         "type": "\"string\""
        },
        {
         "metadata": "{}",
         "name": "metrics",
         "type": "{\"type\":\"struct\",\"fields\":[{\"name\":\"numFilesAdded\",\"type\":\"long\",\"nullable\":false,\"metadata\":{}},{\"name\":\"numFilesRemoved\",\"type\":\"long\",\"nullable\":false,\"metadata\":{}},{\"name\":\"filesAdded\",\"type\":{\"type\":\"struct\",\"fields\":[{\"name\":\"min\",\"type\":\"long\",\"nullable\":true,\"metadata\":{}},{\"name\":\"max\",\"type\":\"long\",\"nullable\":true,\"metadata\":{}},{\"name\":\"avg\",\"type\":\"double\",\"nullable\":false,\"metadata\":{}},{\"name\":\"totalFiles\",\"type\":\"long\",\"nullable\":false,\"metadata\":{}},{\"name\":\"totalSize\",\"type\":\"long\",\"nullable\":false,\"metadata\":{}}]},\"nullable\":true,\"metadata\":{}},{\"name\":\"filesRemoved\",\"type\":{\"type\":\"struct\",\"fields\":[{\"name\":\"min\",\"type\":\"long\",\"nullable\":true,\"metadata\":{}},{\"name\":\"max\",\"type\":\"long\",\"nullable\":true,\"metadata\":{}},{\"name\":\"avg\",\"type\":\"double\",\"nullable\":false,\"metadata\":{}},{\"name\":\"totalFiles\",\"type\":\"long\",\"nullable\":false,\"metadata\":{}},{\"name\":\"totalSize\",\"type\":\"long\",\"nullable\":false,\"metadata\":{}}]},\"nullable\":true,\"metadata\":{}},{\"name\":\"partitionsOptimized\",\"type\":\"long\",\"nullable\":false,\"metadata\":{}},{\"name\":\"zOrderStats\",\"type\":{\"type\":\"struct\",\"fields\":[{\"name\":\"strategyName\",\"type\":\"string\",\"nullable\":true,\"metadata\":{}},{\"name\":\"inputCubeFiles\",\"type\":{\"type\":\"struct\",\"fields\":[{\"name\":\"num\",\"type\":\"long\",\"nullable\":false,\"metadata\":{}},{\"name\":\"size\",\"type\":\"long\",\"nullable\":false,\"metadata\":{}}]},\"nullable\":true,\"metadata\":{}},{\"name\":\"inputOtherFiles\",\"type\":{\"type\":\"struct\",\"fields\":[{\"name\":\"num\",\"type\":\"long\",\"nullable\":false,\"metadata\":{}},{\"name\":\"size\",\"type\":\"long\",\"nullable\":false,\"metadata\":{}}]},\"nullable\":true,\"metadata\":{}},{\"name\":\"inputNumCubes\",\"type\":\"long\",\"nullable\":false,\"metadata\":{}},{\"name\":\"mergedFiles\",\"type\":{\"type\":\"struct\",\"fields\":[{\"name\":\"num\",\"type\":\"long\",\"nullable\":false,\"metadata\":{}},{\"name\":\"size\",\"type\":\"long\",\"nullable\":false,\"metadata\":{}}]},\"nullable\":true,\"metadata\":{}},{\"name\":\"numOutputCubes\",\"type\":\"long\",\"nullable\":false,\"metadata\":{}},{\"name\":\"mergedNumCubes\",\"type\":\"long\",\"nullable\":true,\"metadata\":{}}]},\"nullable\":true,\"metadata\":{}},{\"name\":\"numBatches\",\"type\":\"long\",\"nullable\":false,\"metadata\":{}},{\"name\":\"totalConsideredFiles\",\"type\":\"long\",\"nullable\":false,\"metadata\":{}},{\"name\":\"totalFilesSkipped\",\"type\":\"long\",\"nullable\":false,\"metadata\":{}},{\"name\":\"preserveInsertionOrder\",\"type\":\"boolean\",\"nullable\":false,\"metadata\":{}},{\"name\":\"numFilesSkippedToReduceWriteAmplification\",\"type\":\"long\",\"nullable\":false,\"metadata\":{}},{\"name\":\"numBytesSkippedToReduceWriteAmplification\",\"type\":\"long\",\"nullable\":false,\"metadata\":{}},{\"name\":\"startTimeMs\",\"type\":\"long\",\"nullable\":false,\"metadata\":{}},{\"name\":\"endTimeMs\",\"type\":\"long\",\"nullable\":false,\"metadata\":{}},{\"name\":\"totalClusterParallelism\",\"type\":\"long\",\"nullable\":false,\"metadata\":{}},{\"name\":\"totalScheduledTasks\",\"type\":\"long\",\"nullable\":false,\"metadata\":{}},{\"name\":\"autoCompactParallelismStats\",\"type\":{\"type\":\"struct\",\"fields\":[{\"name\":\"maxClusterActiveParallelism\",\"type\":\"long\",\"nullable\":true,\"metadata\":{}},{\"name\":\"minClusterActiveParallelism\",\"type\":\"long\",\"nullable\":true,\"metadata\":{}},{\"name\":\"maxSessionActiveParallelism\",\"type\":\"long\",\"nullable\":true,\"metadata\":{}},{\"name\":\"minSessionActiveParallelism\",\"type\":\"long\",\"nullable\":true,\"metadata\":{}}]},\"nullable\":true,\"metadata\":{}},{\"name\":\"deletionVectorStats\",\"type\":{\"type\":\"struct\",\"fields\":[{\"name\":\"numDeletionVectorsRemoved\",\"type\":\"long\",\"nullable\":false,\"metadata\":{}},{\"name\":\"numDeletionVectorRowsRemoved\",\"type\":\"long\",\"nullable\":false,\"metadata\":{}}]},\"nullable\":true,\"metadata\":{}},{\"name\":\"numTableColumns\",\"type\":\"long\",\"nullable\":false,\"metadata\":{}},{\"name\":\"numTableColumnsWithStats\",\"type\":\"long\",\"nullable\":false,\"metadata\":{}},{\"name\":\"totalTaskExecutionTimeMs\",\"type\":\"long\",\"nullable\":false,\"metadata\":{}}]}"
        }
       ],
       "type": "table"
      }
     },
     "output_type": "display_data"
    }
   ],
   "source": [
    "%sql\n",
    "CREATE OR REPLACE TABLE silver.fact_series\n",
    "USING delta\n",
    "COMMENT 'Tabela fato principal com métricas e atributos das séries de TV, filtradas por relevância (vote_count > 100).'\n",
    "AS\n",
    "SELECT\n",
    "  id,\n",
    "  name,\n",
    "  vote_average,\n",
    "  vote_count,\n",
    "  number_of_seasons,\n",
    "  number_of_episodes, \n",
    "  try_cast(first_air_date as DATE) AS first_air_date,\n",
    "  try_cast(last_air_date as DATE) AS last_air_date,\n",
    "  original_language,\n",
    "  origin_country,\n",
    "  popularity,\n",
    "  CASE -- Limpeza do status\n",
    "    WHEN status = 'Returning' THEN 'Returning Series'\n",
    "    WHEN status IS NULL OR status = '' THEN 'Unknown'\n",
    "    ELSE status\n",
    "  END AS status,\n",
    "  in_production,\n",
    "  type AS series_type -- Renomeando 'type' para evitar conflito\n",
    "  -- Colunas 'networks', 'production_companies', 'genres' serão explodidas em dimensões\n",
    "  -- Mantidas aqui temporariamente se forem usadas em filtros complexos antes da dimensão\n",
    "FROM bronze.bronze_tv_shows\n",
    "WHERE vote_count > 100 AND id IS NOT NULL; -- Filtro de relevância e IDs não nulos\n",
    "\n",
    "-- Otimização da tabela\n",
    "OPTIMIZE silver.fact_series ZORDER BY (id);\n"
   ]
  },
  {
   "cell_type": "markdown",
   "metadata": {
    "application/vnd.databricks.v1+cell": {
     "cellMetadata": {},
     "inputWidgets": {},
     "nuid": "92efdd54-ed57-497a-8f0c-02f2d18f45a9",
     "showTitle": false,
     "tableResultSettingsMap": {},
     "title": ""
    }
   },
   "source": [
    "### 3.2. Criação das Tabelas Dimensionais\n",
    "\n",
    "Cria tabelas dimensionais separadas para gêneros, redes e produtoras, normalizando os dados (modelo estrela).\n"
   ]
  },
  {
   "cell_type": "code",
   "execution_count": 0,
   "metadata": {
    "application/vnd.databricks.v1+cell": {
     "cellMetadata": {
      "byteLimit": 2048000,
      "implicitDf": true,
      "rowLimit": 10000
     },
     "inputWidgets": {},
     "nuid": "2688c052-6266-4939-8f89-ff90b13c4716",
     "showTitle": true,
     "tableResultSettingsMap": {},
     "title": "Criação da dimensão silver.dim_genres"
    }
   },
   "outputs": [
    {
     "output_type": "display_data",
     "data": {
      "text/html": [
       "<style scoped>\n",
       "  .table-result-container {\n",
       "    max-height: 300px;\n",
       "    overflow: auto;\n",
       "  }\n",
       "  table, th, td {\n",
       "    border: 1px solid black;\n",
       "    border-collapse: collapse;\n",
       "  }\n",
       "  th, td {\n",
       "    padding: 5px;\n",
       "  }\n",
       "  th {\n",
       "    text-align: left;\n",
       "  }\n",
       "</style><div class='table-result-container'><table class='table-result'><thead style='background-color: white'><tr><th>num_affected_rows</th><th>num_inserted_rows</th></tr></thead><tbody></tbody></table></div>"
      ]
     },
     "metadata": {
      "application/vnd.databricks.v1+output": {
       "addedWidgets": {},
       "aggData": [],
       "aggError": "",
       "aggOverflow": false,
       "aggSchema": [],
       "aggSeriesLimitReached": false,
       "aggType": "",
       "arguments": {},
       "columnCustomDisplayInfos": {},
       "data": [],
       "datasetInfos": [],
       "dbfsResultPath": null,
       "isJsonSchema": true,
       "metadata": {},
       "overflow": false,
       "plotOptions": {
        "customPlotOptions": {},
        "displayType": "table",
        "pivotAggregation": null,
        "pivotColumns": null,
        "xColumns": null,
        "yColumns": null
       },
       "removedWidgets": [],
       "schema": [
        {
         "metadata": "{}",
         "name": "num_affected_rows",
         "type": "\"long\""
        },
        {
         "metadata": "{}",
         "name": "num_inserted_rows",
         "type": "\"long\""
        }
       ],
       "type": "table"
      }
     },
     "output_type": "display_data"
    }
   ],
   "source": [
    "%sql\n",
    "CREATE OR REPLACE TABLE silver.dim_genres\n",
    "USING delta\n",
    "COMMENT 'Dimensão de Gêneros das séries. Relação N:M com fact_series.'\n",
    "AS\n",
    "SELECT\n",
    "  id AS serie_id,\n",
    "  TRIM(genre) AS genre\n",
    "FROM (\n",
    "  SELECT id, explode(split(genres, ',')) AS genre\n",
    "  FROM bronze.bronze_tv_shows\n",
    "  WHERE genres IS NOT NULL AND genres != '' AND id IS NOT NULL\n",
    ")\n",
    "WHERE TRIM(genre) != ''; -- Remove gêneros vazios após split/trim\n"
   ]
  },
  {
   "cell_type": "code",
   "execution_count": 0,
   "metadata": {
    "application/vnd.databricks.v1+cell": {
     "cellMetadata": {
      "byteLimit": 2048000,
      "implicitDf": true,
      "rowLimit": 10000
     },
     "inputWidgets": {},
     "nuid": "70a28ec3-aa7d-4cf4-882b-0a3d5c1ceaaf",
     "showTitle": true,
     "tableResultSettingsMap": {},
     "title": "Criação da dimensão silver.dim_networks"
    }
   },
   "outputs": [
    {
     "output_type": "display_data",
     "data": {
      "text/html": [
       "<style scoped>\n",
       "  .table-result-container {\n",
       "    max-height: 300px;\n",
       "    overflow: auto;\n",
       "  }\n",
       "  table, th, td {\n",
       "    border: 1px solid black;\n",
       "    border-collapse: collapse;\n",
       "  }\n",
       "  th, td {\n",
       "    padding: 5px;\n",
       "  }\n",
       "  th {\n",
       "    text-align: left;\n",
       "  }\n",
       "</style><div class='table-result-container'><table class='table-result'><thead style='background-color: white'><tr><th>num_affected_rows</th><th>num_inserted_rows</th></tr></thead><tbody></tbody></table></div>"
      ]
     },
     "metadata": {
      "application/vnd.databricks.v1+output": {
       "addedWidgets": {},
       "aggData": [],
       "aggError": "",
       "aggOverflow": false,
       "aggSchema": [],
       "aggSeriesLimitReached": false,
       "aggType": "",
       "arguments": {},
       "columnCustomDisplayInfos": {},
       "data": [],
       "datasetInfos": [],
       "dbfsResultPath": null,
       "isJsonSchema": true,
       "metadata": {},
       "overflow": false,
       "plotOptions": {
        "customPlotOptions": {},
        "displayType": "table",
        "pivotAggregation": null,
        "pivotColumns": null,
        "xColumns": null,
        "yColumns": null
       },
       "removedWidgets": [],
       "schema": [
        {
         "metadata": "{}",
         "name": "num_affected_rows",
         "type": "\"long\""
        },
        {
         "metadata": "{}",
         "name": "num_inserted_rows",
         "type": "\"long\""
        }
       ],
       "type": "table"
      }
     },
     "output_type": "display_data"
    }
   ],
   "source": [
    "%sql\n",
    "CREATE OR REPLACE TABLE silver.dim_networks\n",
    "USING delta\n",
    "COMMENT 'Dimensão de Redes/Plataformas das séries. Relação N:M com fact_series.'\n",
    "AS\n",
    "SELECT\n",
    "  id AS serie_id,\n",
    "  TRIM(network) AS network\n",
    "FROM (\n",
    "  SELECT id, explode(split(networks, ',')) AS network\n",
    "  FROM bronze.bronze_tv_shows\n",
    "  WHERE networks IS NOT NULL AND networks != '' AND id IS NOT NULL\n",
    ")\n",
    "WHERE TRIM(network) != ''; -- Remove redes vazias\n"
   ]
  },
  {
   "cell_type": "code",
   "execution_count": 0,
   "metadata": {
    "application/vnd.databricks.v1+cell": {
     "cellMetadata": {
      "byteLimit": 2048000,
      "implicitDf": true,
      "rowLimit": 10000
     },
     "inputWidgets": {},
     "nuid": "64a21137-3628-4247-ac19-c8043af4873c",
     "showTitle": true,
     "tableResultSettingsMap": {},
     "title": "Criação da dimensão silver.dim_producers"
    }
   },
   "outputs": [
    {
     "output_type": "display_data",
     "data": {
      "text/html": [
       "<style scoped>\n",
       "  .table-result-container {\n",
       "    max-height: 300px;\n",
       "    overflow: auto;\n",
       "  }\n",
       "  table, th, td {\n",
       "    border: 1px solid black;\n",
       "    border-collapse: collapse;\n",
       "  }\n",
       "  th, td {\n",
       "    padding: 5px;\n",
       "  }\n",
       "  th {\n",
       "    text-align: left;\n",
       "  }\n",
       "</style><div class='table-result-container'><table class='table-result'><thead style='background-color: white'><tr><th>num_affected_rows</th><th>num_inserted_rows</th></tr></thead><tbody></tbody></table></div>"
      ]
     },
     "metadata": {
      "application/vnd.databricks.v1+output": {
       "addedWidgets": {},
       "aggData": [],
       "aggError": "",
       "aggOverflow": false,
       "aggSchema": [],
       "aggSeriesLimitReached": false,
       "aggType": "",
       "arguments": {},
       "columnCustomDisplayInfos": {},
       "data": [],
       "datasetInfos": [],
       "dbfsResultPath": null,
       "isJsonSchema": true,
       "metadata": {},
       "overflow": false,
       "plotOptions": {
        "customPlotOptions": {},
        "displayType": "table",
        "pivotAggregation": null,
        "pivotColumns": null,
        "xColumns": null,
        "yColumns": null
       },
       "removedWidgets": [],
       "schema": [
        {
         "metadata": "{}",
         "name": "num_affected_rows",
         "type": "\"long\""
        },
        {
         "metadata": "{}",
         "name": "num_inserted_rows",
         "type": "\"long\""
        }
       ],
       "type": "table"
      }
     },
     "output_type": "display_data"
    }
   ],
   "source": [
    "%sql\n",
    "CREATE OR REPLACE TABLE silver.dim_producers\n",
    "USING delta\n",
    "COMMENT 'Dimensão de Empresas Produtoras das séries. Relação N:M com fact_series.'\n",
    "AS\n",
    "SELECT\n",
    "  id AS serie_id,\n",
    "  TRIM(company) AS production_company\n",
    "FROM (\n",
    "  SELECT id, explode(split(production_companies, ',')) AS company\n",
    "  FROM bronze.bronze_tv_shows\n",
    "  WHERE production_companies IS NOT NULL AND production_companies != '' AND id IS NOT NULL\n",
    ")\n",
    "WHERE TRIM(company) != ''; -- Remove produtoras vazias\n"
   ]
  },
  {
   "cell_type": "markdown",
   "metadata": {
    "application/vnd.databricks.v1+cell": {
     "cellMetadata": {},
     "inputWidgets": {},
     "nuid": "28f14652-5129-444d-b372-6d59a22c7b9b",
     "showTitle": false,
     "tableResultSettingsMap": {},
     "title": ""
    }
   },
   "source": [
    "### 3.3. Criação da Tabela de Log de Qualidade de Dados\n",
    "Serve como um **registro histórico** e um **ponto de verificação da saúde** dos seus dados na camada Silver, especificamente da sua tabela fato principal (`silver.fact_series`) após as etapas de limpeza e transformação."
   ]
  },
  {
   "cell_type": "code",
   "execution_count": 0,
   "metadata": {
    "application/vnd.databricks.v1+cell": {
     "cellMetadata": {
      "byteLimit": 2048000,
      "implicitDf": true,
      "rowLimit": 10000
     },
     "inputWidgets": {},
     "nuid": "1bab4373-0bbf-4a2b-9d8c-2fab03e3c77f",
     "showTitle": true,
     "tableResultSettingsMap": {},
     "title": "Criação da tabela silver.data_quality_log"
    }
   },
   "outputs": [
    {
     "output_type": "display_data",
     "data": {
      "text/html": [
       "<style scoped>\n",
       "  .table-result-container {\n",
       "    max-height: 300px;\n",
       "    overflow: auto;\n",
       "  }\n",
       "  table, th, td {\n",
       "    border: 1px solid black;\n",
       "    border-collapse: collapse;\n",
       "  }\n",
       "  th, td {\n",
       "    padding: 5px;\n",
       "  }\n",
       "  th {\n",
       "    text-align: left;\n",
       "  }\n",
       "</style><div class='table-result-container'><table class='table-result'><thead style='background-color: white'><tr><th>num_affected_rows</th><th>num_inserted_rows</th></tr></thead><tbody></tbody></table></div>"
      ]
     },
     "metadata": {
      "application/vnd.databricks.v1+output": {
       "addedWidgets": {},
       "aggData": [],
       "aggError": "",
       "aggOverflow": false,
       "aggSchema": [],
       "aggSeriesLimitReached": false,
       "aggType": "",
       "arguments": {},
       "columnCustomDisplayInfos": {},
       "data": [],
       "datasetInfos": [],
       "dbfsResultPath": null,
       "isJsonSchema": true,
       "metadata": {},
       "overflow": false,
       "plotOptions": {
        "customPlotOptions": {},
        "displayType": "table",
        "pivotAggregation": null,
        "pivotColumns": null,
        "xColumns": null,
        "yColumns": null
       },
       "removedWidgets": [],
       "schema": [
        {
         "metadata": "{}",
         "name": "num_affected_rows",
         "type": "\"long\""
        },
        {
         "metadata": "{}",
         "name": "num_inserted_rows",
         "type": "\"long\""
        }
       ],
       "type": "table"
      }
     },
     "output_type": "display_data"
    }
   ],
   "source": [
    "%sql\n",
    "CREATE OR REPLACE TABLE silver.data_quality_log\n",
    "USING delta\n",
    "COMMENT 'Log com métricas de qualidade calculadas sobre a tabela fato silver.fact_series.'\n",
    "AS\n",
    "SELECT\n",
    "  COUNT(*) AS total_series_silver,          -- Total de registros na fact_series (após filtro)\n",
    "  COUNT(DISTINCT id) AS unique_ids_silver,  -- IDs únicos na fact_series\n",
    "  AVG(vote_count) AS avg_votes_silver,      -- Média de votos na fact_series\n",
    "  COUNT(CASE WHEN status = 'Unknown' THEN 1 END) as count_status_unknown, -- Contagem de status desconhecidos\n",
    "  current_timestamp() as log_timestamp     -- Timestamp da execução\n",
    "FROM silver.fact_series;\n"
   ]
  },
  {
   "cell_type": "markdown",
   "metadata": {
    "application/vnd.databricks.v1+cell": {
     "cellMetadata": {},
     "inputWidgets": {},
     "nuid": "f7f35677-d845-4040-9554-e4e233338293",
     "showTitle": false,
     "tableResultSettingsMap": {},
     "title": ""
    }
   },
   "source": [
    "### 3.4. Adicionando Comentários às Colunas (Metadados)"
   ]
  },
  {
   "cell_type": "code",
   "execution_count": 0,
   "metadata": {
    "application/vnd.databricks.v1+cell": {
     "cellMetadata": {
      "byteLimit": 2048000,
      "rowLimit": 10000
     },
     "inputWidgets": {},
     "nuid": "09c9f60e-7969-494c-b69d-abbdcc10998f",
     "showTitle": true,
     "tableResultSettingsMap": {},
     "title": "Dicionários com comentários para cada tabela silver"
    }
   },
   "outputs": [
    {
     "output_type": "stream",
     "name": "stdout",
     "output_type": "stream",
     "text": [
      "Aplicando comentários para a tabela: silver.fact_series\nAplicando comentários para a tabela: silver.dim_genres\nAplicando comentários para a tabela: silver.dim_networks\nAplicando comentários para a tabela: silver.dim_producers\nAplicando comentários para a tabela: silver.data_quality_log\n\n✅ Comentários aplicados às colunas das tabelas Silver.\n"
     ]
    }
   ],
   "source": [
    "fact_series_comments = {\n",
    "    \"id\": \"ID único da série no TMDB (Chave Primária)\",\n",
    "    \"name\": \"Nome oficial da série\",\n",
    "    \"vote_average\": \"Média de avaliações (0-10)\",\n",
    "    \"vote_count\": \"Quantidade total de votos recebidos\",\n",
    "    \"number_of_seasons\": \"Número de temporadas produzidas\",\n",
    "    \"number_of_episodes\": \"Número total de episódios\",\n",
    "    \"first_air_date\": \"Data de estreia da primeira temporada\",\n",
    "    \"last_air_date\": \"Data do último episódio exibido\",\n",
    "    \"original_language\": \"Idioma original da produção (código ISO 639-1)\",\n",
    "    \"origin_country\": \"País de origem (código ISO 3166-1)\",\n",
    "    \"popularity\": \"Índice de popularidade no TMDB\",\n",
    "    \"status\": \"Status de produção (Ended, Returning Series, Canceled, Unknown, etc.)\",\n",
    "    \"in_production\": \"Booleano indicando se a série ainda está em produção\",\n",
    "    \"series_type\": \"Tipo da série (e.g., Scripted, Reality, Documentary)\"\n",
    "}\n",
    "\n",
    "dim_genres_comments = {\n",
    "    \"serie_id\": \"ID da série (Chave Estrangeira para fact_series.id)\",\n",
    "    \"genre\": \"Gênero associado à série\"\n",
    "}\n",
    "\n",
    "dim_networks_comments = {\n",
    "    \"serie_id\": \"ID da série (Chave Estrangeira para fact_series.id)\",\n",
    "    \"network\": \"Rede/Plataforma de distribuição associada à série\"\n",
    "}\n",
    "\n",
    "dim_producers_comments = {\n",
    "    \"serie_id\": \"ID da série (Chave Estrangeira para fact_series.id)\",\n",
    "    \"production_company\": \"Empresa produtora associada à série\"\n",
    "}\n",
    "\n",
    "data_quality_log_comments = {\n",
    "    \"total_series_silver\": \"Número total de séries na tabela silver.fact_series\",\n",
    "    \"unique_ids_silver\": \"Número de IDs únicos na tabela silver.fact_series\",\n",
    "    \"avg_votes_silver\": \"Média da quantidade de votos por série na silver.fact_series\",\n",
    "    \"count_status_unknown\": \"Número de séries com status Unknown na silver.fact_series\",\n",
    "    \"log_timestamp\": \"Timestamp de quando o log de qualidade foi gerado\"\n",
    "}\n",
    "\n",
    "# Função para aplicar comentários\n",
    "def apply_comments(table_name, comments_dict):\n",
    "    print(f\"Aplicando comentários para a tabela: {table_name}\")\n",
    "    for col_name, comment in comments_dict.items():\n",
    "        try:\n",
    "            spark.sql(f\"ALTER TABLE {table_name} ALTER COLUMN {col_name} COMMENT '{comment}'\")\n",
    "        except Exception as e:\n",
    "            print(f\"  Aviso: Não foi possível aplicar comentário para a coluna '{col_name}'. Erro: {e}\")\n",
    "\n",
    "# Aplicar comentários\n",
    "apply_comments(\"silver.fact_series\", fact_series_comments)\n",
    "apply_comments(\"silver.dim_genres\", dim_genres_comments)\n",
    "apply_comments(\"silver.dim_networks\", dim_networks_comments)\n",
    "apply_comments(\"silver.dim_producers\", dim_producers_comments)\n",
    "apply_comments(\"silver.data_quality_log\", data_quality_log_comments)\n",
    "\n",
    "print(\"\\n✅ Comentários aplicados às colunas das tabelas Silver.\")\n"
   ]
  },
  {
   "cell_type": "markdown",
   "metadata": {
    "application/vnd.databricks.v1+cell": {
     "cellMetadata": {},
     "inputWidgets": {},
     "nuid": "47ff1688-6a0a-4ab5-8339-c2a8ca361876",
     "showTitle": false,
     "tableResultSettingsMap": {},
     "title": ""
    }
   },
   "source": [
    "### Verificação das Tabelas Silver"
   ]
  },
  {
   "cell_type": "code",
   "execution_count": 0,
   "metadata": {
    "application/vnd.databricks.v1+cell": {
     "cellMetadata": {
      "byteLimit": 2048000,
      "implicitDf": true,
      "rowLimit": 10000
     },
     "inputWidgets": {},
     "nuid": "ebb46f19-191d-443c-90be-ac34e3d95b35",
     "showTitle": true,
     "tableResultSettingsMap": {},
     "title": "Mostra metadados detalhados da tabela silver.fact_series"
    }
   },
   "outputs": [
    {
     "output_type": "display_data",
     "data": {
      "text/html": [
       "<style scoped>\n",
       "  .table-result-container {\n",
       "    max-height: 300px;\n",
       "    overflow: auto;\n",
       "  }\n",
       "  table, th, td {\n",
       "    border: 1px solid black;\n",
       "    border-collapse: collapse;\n",
       "  }\n",
       "  th, td {\n",
       "    padding: 5px;\n",
       "  }\n",
       "  th {\n",
       "    text-align: left;\n",
       "  }\n",
       "</style><div class='table-result-container'><table class='table-result'><thead style='background-color: white'><tr><th>col_name</th><th>data_type</th><th>comment</th></tr></thead><tbody><tr><td>id</td><td>bigint</td><td>ID único da série no TMDB (Chave Primária)</td></tr><tr><td>name</td><td>string</td><td>Nome oficial da série</td></tr><tr><td>vote_average</td><td>double</td><td>Média de avaliações (0-10)</td></tr><tr><td>vote_count</td><td>bigint</td><td>Quantidade total de votos recebidos</td></tr><tr><td>number_of_seasons</td><td>bigint</td><td>Número de temporadas produzidas</td></tr><tr><td>number_of_episodes</td><td>bigint</td><td>Número total de episódios</td></tr><tr><td>first_air_date</td><td>date</td><td>Data de estreia da primeira temporada</td></tr><tr><td>last_air_date</td><td>date</td><td>Data do último episódio exibido</td></tr><tr><td>original_language</td><td>string</td><td>Idioma original da produção (código ISO 639-1)</td></tr><tr><td>origin_country</td><td>string</td><td>País de origem (código ISO 3166-1)</td></tr><tr><td>popularity</td><td>double</td><td>Índice de popularidade no TMDB</td></tr><tr><td>status</td><td>string</td><td>Status de produção (Ended, Returning Series, Canceled, Unknown, etc.)</td></tr><tr><td>in_production</td><td>boolean</td><td>Booleano indicando se a série ainda está em produção</td></tr><tr><td>series_type</td><td>string</td><td>Tipo da série (e.g., Scripted, Reality, Documentary)</td></tr><tr><td></td><td></td><td></td></tr><tr><td># Detailed Table Information</td><td></td><td></td></tr><tr><td>Catalog</td><td>spark_catalog</td><td></td></tr><tr><td>Database</td><td>silver</td><td></td></tr><tr><td>Table</td><td>fact_series</td><td></td></tr><tr><td>Created Time</td><td>Tue Apr 08 01:29:39 UTC 2025</td><td></td></tr><tr><td>Last Access</td><td>UNKNOWN</td><td></td></tr><tr><td>Created By</td><td>Spark 3.3.2</td><td></td></tr><tr><td>Statistics</td><td>260144 bytes</td><td></td></tr><tr><td>Type</td><td>MANAGED</td><td></td></tr><tr><td>Comment</td><td>Tabela fato principal com métricas e atributos das séries de TV, filtradas por relevância (vote_count > 100).</td><td></td></tr><tr><td>Location</td><td>dbfs:/user/hive/warehouse/silver.db/fact_series</td><td></td></tr><tr><td>Provider</td><td>delta</td><td></td></tr><tr><td>Owner</td><td>root</td><td></td></tr><tr><td>Is_managed_location</td><td>true</td><td></td></tr><tr><td>Table Properties</td><td>[delta.minReaderVersion=1,delta.minWriterVersion=2]</td><td></td></tr></tbody></table></div>"
      ]
     },
     "metadata": {
      "application/vnd.databricks.v1+output": {
       "addedWidgets": {},
       "aggData": [],
       "aggError": "",
       "aggOverflow": false,
       "aggSchema": [],
       "aggSeriesLimitReached": false,
       "aggType": "",
       "arguments": {},
       "columnCustomDisplayInfos": {},
       "data": [
        [
         "id",
         "bigint",
         "ID único da série no TMDB (Chave Primária)"
        ],
        [
         "name",
         "string",
         "Nome oficial da série"
        ],
        [
         "vote_average",
         "double",
         "Média de avaliações (0-10)"
        ],
        [
         "vote_count",
         "bigint",
         "Quantidade total de votos recebidos"
        ],
        [
         "number_of_seasons",
         "bigint",
         "Número de temporadas produzidas"
        ],
        [
         "number_of_episodes",
         "bigint",
         "Número total de episódios"
        ],
        [
         "first_air_date",
         "date",
         "Data de estreia da primeira temporada"
        ],
        [
         "last_air_date",
         "date",
         "Data do último episódio exibido"
        ],
        [
         "original_language",
         "string",
         "Idioma original da produção (código ISO 639-1)"
        ],
        [
         "origin_country",
         "string",
         "País de origem (código ISO 3166-1)"
        ],
        [
         "popularity",
         "double",
         "Índice de popularidade no TMDB"
        ],
        [
         "status",
         "string",
         "Status de produção (Ended, Returning Series, Canceled, Unknown, etc.)"
        ],
        [
         "in_production",
         "boolean",
         "Booleano indicando se a série ainda está em produção"
        ],
        [
         "series_type",
         "string",
         "Tipo da série (e.g., Scripted, Reality, Documentary)"
        ],
        [
         "",
         "",
         ""
        ],
        [
         "# Detailed Table Information",
         "",
         ""
        ],
        [
         "Catalog",
         "spark_catalog",
         ""
        ],
        [
         "Database",
         "silver",
         ""
        ],
        [
         "Table",
         "fact_series",
         ""
        ],
        [
         "Created Time",
         "Tue Apr 08 01:29:39 UTC 2025",
         ""
        ],
        [
         "Last Access",
         "UNKNOWN",
         ""
        ],
        [
         "Created By",
         "Spark 3.3.2",
         ""
        ],
        [
         "Statistics",
         "260144 bytes",
         ""
        ],
        [
         "Type",
         "MANAGED",
         ""
        ],
        [
         "Comment",
         "Tabela fato principal com métricas e atributos das séries de TV, filtradas por relevância (vote_count > 100).",
         ""
        ],
        [
         "Location",
         "dbfs:/user/hive/warehouse/silver.db/fact_series",
         ""
        ],
        [
         "Provider",
         "delta",
         ""
        ],
        [
         "Owner",
         "root",
         ""
        ],
        [
         "Is_managed_location",
         "true",
         ""
        ],
        [
         "Table Properties",
         "[delta.minReaderVersion=1,delta.minWriterVersion=2]",
         ""
        ]
       ],
       "datasetInfos": [],
       "dbfsResultPath": null,
       "isJsonSchema": true,
       "metadata": {},
       "overflow": false,
       "plotOptions": {
        "customPlotOptions": {},
        "displayType": "table",
        "pivotAggregation": null,
        "pivotColumns": null,
        "xColumns": null,
        "yColumns": null
       },
       "removedWidgets": [],
       "schema": [
        {
         "metadata": "{\"comment\":\"name of the column\"}",
         "name": "col_name",
         "type": "\"string\""
        },
        {
         "metadata": "{\"comment\":\"data type of the column\"}",
         "name": "data_type",
         "type": "\"string\""
        },
        {
         "metadata": "{\"comment\":\"comment of the column\"}",
         "name": "comment",
         "type": "\"string\""
        }
       ],
       "type": "table"
      }
     },
     "output_type": "display_data"
    }
   ],
   "source": [
    "%sql \n",
    "DESCRIBE TABLE EXTENDED silver.fact_series;"
   ]
  },
  {
   "cell_type": "code",
   "execution_count": 0,
   "metadata": {
    "application/vnd.databricks.v1+cell": {
     "cellMetadata": {
      "byteLimit": 2048000,
      "implicitDf": true,
      "rowLimit": 10000
     },
     "inputWidgets": {},
     "nuid": "45cb3571-3aa2-4241-87a1-ce10eda20f63",
     "showTitle": true,
     "tableResultSettingsMap": {},
     "title": "Exibe as 5 primeiras linhas da tabela de dimensão de gêneros"
    }
   },
   "outputs": [
    {
     "output_type": "display_data",
     "data": {
      "text/html": [
       "<style scoped>\n",
       "  .table-result-container {\n",
       "    max-height: 300px;\n",
       "    overflow: auto;\n",
       "  }\n",
       "  table, th, td {\n",
       "    border: 1px solid black;\n",
       "    border-collapse: collapse;\n",
       "  }\n",
       "  th, td {\n",
       "    padding: 5px;\n",
       "  }\n",
       "  th {\n",
       "    text-align: left;\n",
       "  }\n",
       "</style><div class='table-result-container'><table class='table-result'><thead style='background-color: white'><tr><th>serie_id</th><th>genre</th></tr></thead><tbody><tr><td>1399</td><td>Sci-Fi & Fantasy</td></tr><tr><td>1399</td><td>Drama</td></tr><tr><td>1399</td><td>Action & Adventure</td></tr><tr><td>71446</td><td>Crime</td></tr><tr><td>71446</td><td>Drama</td></tr></tbody></table></div>"
      ]
     },
     "metadata": {
      "application/vnd.databricks.v1+output": {
       "addedWidgets": {},
       "aggData": [],
       "aggError": "",
       "aggOverflow": false,
       "aggSchema": [],
       "aggSeriesLimitReached": false,
       "aggType": "",
       "arguments": {},
       "columnCustomDisplayInfos": {},
       "data": [
        [
         1399,
         "Sci-Fi & Fantasy"
        ],
        [
         1399,
         "Drama"
        ],
        [
         1399,
         "Action & Adventure"
        ],
        [
         71446,
         "Crime"
        ],
        [
         71446,
         "Drama"
        ]
       ],
       "datasetInfos": [],
       "dbfsResultPath": null,
       "isJsonSchema": true,
       "metadata": {},
       "overflow": false,
       "plotOptions": {
        "customPlotOptions": {},
        "displayType": "table",
        "pivotAggregation": null,
        "pivotColumns": null,
        "xColumns": null,
        "yColumns": null
       },
       "removedWidgets": [],
       "schema": [
        {
         "metadata": "{\"comment\":\"ID da série (Chave Estrangeira para fact_series.id)\"}",
         "name": "serie_id",
         "type": "\"long\""
        },
        {
         "metadata": "{\"comment\":\"Gênero associado à série\"}",
         "name": "genre",
         "type": "\"string\""
        }
       ],
       "type": "table"
      }
     },
     "output_type": "display_data"
    }
   ],
   "source": [
    "%sql \n",
    "SELECT * FROM silver.dim_genres LIMIT 5;"
   ]
  },
  {
   "cell_type": "code",
   "execution_count": 0,
   "metadata": {
    "application/vnd.databricks.v1+cell": {
     "cellMetadata": {
      "byteLimit": 2048000,
      "implicitDf": true,
      "rowLimit": 10000
     },
     "inputWidgets": {},
     "nuid": "2ca0b5b7-9fdc-48a3-b3e5-6b7d8aaf8bd6",
     "showTitle": true,
     "tableResultSettingsMap": {},
     "title": "Exibe as 5 primeiras linhas da tabela de dimensão de redes/plataformas"
    }
   },
   "outputs": [
    {
     "output_type": "display_data",
     "data": {
      "text/html": [
       "<style scoped>\n",
       "  .table-result-container {\n",
       "    max-height: 300px;\n",
       "    overflow: auto;\n",
       "  }\n",
       "  table, th, td {\n",
       "    border: 1px solid black;\n",
       "    border-collapse: collapse;\n",
       "  }\n",
       "  th, td {\n",
       "    padding: 5px;\n",
       "  }\n",
       "  th {\n",
       "    text-align: left;\n",
       "  }\n",
       "</style><div class='table-result-container'><table class='table-result'><thead style='background-color: white'><tr><th>serie_id</th><th>network</th></tr></thead><tbody><tr><td>1399</td><td>HBO</td></tr><tr><td>71446</td><td>Netflix</td></tr><tr><td>71446</td><td>Antena 3</td></tr><tr><td>66732</td><td>Netflix</td></tr><tr><td>1402</td><td>AMC</td></tr></tbody></table></div>"
      ]
     },
     "metadata": {
      "application/vnd.databricks.v1+output": {
       "addedWidgets": {},
       "aggData": [],
       "aggError": "",
       "aggOverflow": false,
       "aggSchema": [],
       "aggSeriesLimitReached": false,
       "aggType": "",
       "arguments": {},
       "columnCustomDisplayInfos": {},
       "data": [
        [
         1399,
         "HBO"
        ],
        [
         71446,
         "Netflix"
        ],
        [
         71446,
         "Antena 3"
        ],
        [
         66732,
         "Netflix"
        ],
        [
         1402,
         "AMC"
        ]
       ],
       "datasetInfos": [],
       "dbfsResultPath": null,
       "isJsonSchema": true,
       "metadata": {},
       "overflow": false,
       "plotOptions": {
        "customPlotOptions": {},
        "displayType": "table",
        "pivotAggregation": null,
        "pivotColumns": null,
        "xColumns": null,
        "yColumns": null
       },
       "removedWidgets": [],
       "schema": [
        {
         "metadata": "{\"comment\":\"ID da série (Chave Estrangeira para fact_series.id)\"}",
         "name": "serie_id",
         "type": "\"long\""
        },
        {
         "metadata": "{\"comment\":\"Rede/Plataforma de distribuição associada à série\"}",
         "name": "network",
         "type": "\"string\""
        }
       ],
       "type": "table"
      }
     },
     "output_type": "display_data"
    }
   ],
   "source": [
    "%sql \n",
    "SELECT * FROM silver.dim_networks LIMIT 5;\n"
   ]
  },
  {
   "cell_type": "code",
   "execution_count": 0,
   "metadata": {
    "application/vnd.databricks.v1+cell": {
     "cellMetadata": {
      "byteLimit": 2048000,
      "implicitDf": true,
      "rowLimit": 10000
     },
     "inputWidgets": {},
     "nuid": "563494bb-942b-48bf-8088-00404c2a9cc4",
     "showTitle": true,
     "tableResultSettingsMap": {},
     "title": "Exibe as 5 primeiras linhas da tabela de dimensão de produtoras"
    }
   },
   "outputs": [
    {
     "output_type": "display_data",
     "data": {
      "text/html": [
       "<style scoped>\n",
       "  .table-result-container {\n",
       "    max-height: 300px;\n",
       "    overflow: auto;\n",
       "  }\n",
       "  table, th, td {\n",
       "    border: 1px solid black;\n",
       "    border-collapse: collapse;\n",
       "  }\n",
       "  th, td {\n",
       "    padding: 5px;\n",
       "  }\n",
       "  th {\n",
       "    text-align: left;\n",
       "  }\n",
       "</style><div class='table-result-container'><table class='table-result'><thead style='background-color: white'><tr><th>serie_id</th><th>production_company</th></tr></thead><tbody><tr><td>1399</td><td>Revolution Sun Studios</td></tr><tr><td>1399</td><td>Television 360</td></tr><tr><td>1399</td><td>Generator Entertainment</td></tr><tr><td>1399</td><td>Bighead Littlehead</td></tr><tr><td>71446</td><td>Vancouver Media</td></tr></tbody></table></div>"
      ]
     },
     "metadata": {
      "application/vnd.databricks.v1+output": {
       "addedWidgets": {},
       "aggData": [],
       "aggError": "",
       "aggOverflow": false,
       "aggSchema": [],
       "aggSeriesLimitReached": false,
       "aggType": "",
       "arguments": {},
       "columnCustomDisplayInfos": {},
       "data": [
        [
         1399,
         "Revolution Sun Studios"
        ],
        [
         1399,
         "Television 360"
        ],
        [
         1399,
         "Generator Entertainment"
        ],
        [
         1399,
         "Bighead Littlehead"
        ],
        [
         71446,
         "Vancouver Media"
        ]
       ],
       "datasetInfos": [],
       "dbfsResultPath": null,
       "isJsonSchema": true,
       "metadata": {},
       "overflow": false,
       "plotOptions": {
        "customPlotOptions": {},
        "displayType": "table",
        "pivotAggregation": null,
        "pivotColumns": null,
        "xColumns": null,
        "yColumns": null
       },
       "removedWidgets": [],
       "schema": [
        {
         "metadata": "{\"comment\":\"ID da série (Chave Estrangeira para fact_series.id)\"}",
         "name": "serie_id",
         "type": "\"long\""
        },
        {
         "metadata": "{\"comment\":\"Empresa produtora associada à série\"}",
         "name": "production_company",
         "type": "\"string\""
        }
       ],
       "type": "table"
      }
     },
     "output_type": "display_data"
    }
   ],
   "source": [
    "%sql \n",
    "SELECT * FROM silver.dim_producers LIMIT 5;"
   ]
  },
  {
   "cell_type": "code",
   "execution_count": 0,
   "metadata": {
    "application/vnd.databricks.v1+cell": {
     "cellMetadata": {
      "byteLimit": 2048000,
      "implicitDf": true,
      "rowLimit": 10000
     },
     "inputWidgets": {},
     "nuid": "bfaf7111-61d9-4cc1-ab6b-411a33f3b0a2",
     "showTitle": true,
     "tableResultSettingsMap": {},
     "title": "Exibe todo o conteúdo da tabela de log de qualidade de dados"
    }
   },
   "outputs": [
    {
     "output_type": "display_data",
     "data": {
      "text/html": [
       "<style scoped>\n",
       "  .table-result-container {\n",
       "    max-height: 300px;\n",
       "    overflow: auto;\n",
       "  }\n",
       "  table, th, td {\n",
       "    border: 1px solid black;\n",
       "    border-collapse: collapse;\n",
       "  }\n",
       "  th, td {\n",
       "    padding: 5px;\n",
       "  }\n",
       "  th {\n",
       "    text-align: left;\n",
       "  }\n",
       "</style><div class='table-result-container'><table class='table-result'><thead style='background-color: white'><tr><th>total_series_silver</th><th>unique_ids_silver</th><th>avg_votes_silver</th><th>count_status_unknown</th><th>log_timestamp</th></tr></thead><tbody><tr><td>3011</td><td>3011</td><td>617.6824975091332</td><td>0</td><td>2025-04-08T01:35:44.926+0000</td></tr></tbody></table></div>"
      ]
     },
     "metadata": {
      "application/vnd.databricks.v1+output": {
       "addedWidgets": {},
       "aggData": [],
       "aggError": "",
       "aggOverflow": false,
       "aggSchema": [],
       "aggSeriesLimitReached": false,
       "aggType": "",
       "arguments": {},
       "columnCustomDisplayInfos": {},
       "data": [
        [
         3011,
         3011,
         617.6824975091332,
         0,
         "2025-04-08T01:35:44.926+0000"
        ]
       ],
       "datasetInfos": [],
       "dbfsResultPath": null,
       "isJsonSchema": true,
       "metadata": {},
       "overflow": false,
       "plotOptions": {
        "customPlotOptions": {},
        "displayType": "table",
        "pivotAggregation": null,
        "pivotColumns": null,
        "xColumns": null,
        "yColumns": null
       },
       "removedWidgets": [],
       "schema": [
        {
         "metadata": "{\"comment\":\"Número total de séries na tabela silver.fact_series\"}",
         "name": "total_series_silver",
         "type": "\"long\""
        },
        {
         "metadata": "{\"comment\":\"Número de IDs únicos na tabela silver.fact_series\"}",
         "name": "unique_ids_silver",
         "type": "\"long\""
        },
        {
         "metadata": "{\"comment\":\"Média da quantidade de votos por série na silver.fact_series\"}",
         "name": "avg_votes_silver",
         "type": "\"double\""
        },
        {
         "metadata": "{\"comment\":\"Número de séries com status Unknown na silver.fact_series\"}",
         "name": "count_status_unknown",
         "type": "\"long\""
        },
        {
         "metadata": "{\"comment\":\"Timestamp de quando o log de qualidade foi gerado\"}",
         "name": "log_timestamp",
         "type": "\"timestamp\""
        }
       ],
       "type": "table"
      }
     },
     "output_type": "display_data"
    }
   ],
   "source": [
    "%sql \n",
    "SELECT * FROM silver.data_quality_log;"
   ]
  },
  {
   "cell_type": "markdown",
   "metadata": {
    "application/vnd.databricks.v1+cell": {
     "cellMetadata": {},
     "inputWidgets": {},
     "nuid": "f6c12254-cd26-41b9-a728-6aa54961cf60",
     "showTitle": false,
     "tableResultSettingsMap": {},
     "title": ""
    }
   },
   "source": [
    "## 4. Camada Gold: Agregação e Análise de Negócios\n",
    "\n",
    "**Objetivo:** Criar tabelas agregadas ou visualizações específicas para responder às perguntas de negócio levantadas. As tabelas Gold são a fonte para dashboards e relatórios.\n",
    "\n",
    "### Catálogo de dados\n",
    "\n",
    "*   **`gold.genre_performance_analysis`**: Agrega dados por gênero (`genre`), mostrando avaliação média (`avg_rating`), popularidade média (`avg_popularity`) e número de séries (`num_series`).\n",
    "*   **`gold.season_impact_analysis`**: Agrega dados por número de temporadas (`number_of_seasons`), mostrando avaliação média (`avg_rating`), popularidade média (`avg_popularity`) e número de séries (`num_series`).\n",
    "*   **`gold.platform_performance_analysis`**: Agrega dados por plataforma padronizada (`platform_standardized`), mostrando avaliação média (`avg_rating`), popularidade média (`avg_popularity`) e número de séries (`num_series`).\n",
    "*   **`gold.status_by_genre_analysis`**: Mostra a contagem (`num_series`) e percentual (`percent_of_genre`) de cada `status` dentro de cada `genre` principal.\n",
    "*   **`gold.language_impact_analysis`**: Agrega dados por idioma original (`original_language`), mostrando popularidade média (`avg_popularity`), avaliação média (`avg_rating`) e número de séries (`num_series`).\n",
    "\n",
    "**Observação:** Os domínios exatos (mínimos, máximos, categorias específicas) para as colunas nas tabelas Gold dependem dos resultados das agregações e dos filtros aplicados (e.g., `HAVING COUNT(DISTINCT f.id) >= 100`)."
   ]
  },
  {
   "cell_type": "markdown",
   "metadata": {
    "application/vnd.databricks.v1+cell": {
     "cellMetadata": {},
     "inputWidgets": {},
     "nuid": "a60e0feb-b520-4d0c-a6f0-78ad7bfe92dc",
     "showTitle": false,
     "tableResultSettingsMap": {},
     "title": ""
    }
   },
   "source": [
    "### 4.1. Análise 1: Desempenho por Gênero\n",
    "\n",
    "Quais gêneros de séries têm as melhores avaliações médias e maior popularidade?\n"
   ]
  },
  {
   "cell_type": "code",
   "execution_count": 0,
   "metadata": {
    "application/vnd.databricks.v1+cell": {
     "cellMetadata": {
      "byteLimit": 2048000,
      "implicitDf": true,
      "rowLimit": 10000
     },
     "inputWidgets": {},
     "nuid": "d4bdb95d-f8bf-4d20-86f7-fba7ac5fd27e",
     "showTitle": true,
     "tableResultSettingsMap": {},
     "title": "Análise 1 - query"
    }
   },
   "outputs": [
    {
     "output_type": "display_data",
     "data": {
      "text/html": [
       "<style scoped>\n",
       "  .table-result-container {\n",
       "    max-height: 300px;\n",
       "    overflow: auto;\n",
       "  }\n",
       "  table, th, td {\n",
       "    border: 1px solid black;\n",
       "    border-collapse: collapse;\n",
       "  }\n",
       "  th, td {\n",
       "    padding: 5px;\n",
       "  }\n",
       "  th {\n",
       "    text-align: left;\n",
       "  }\n",
       "</style><div class='table-result-container'><table class='table-result'><thead style='background-color: white'><tr><th>num_affected_rows</th><th>num_inserted_rows</th></tr></thead><tbody></tbody></table></div>"
      ]
     },
     "metadata": {
      "application/vnd.databricks.v1+output": {
       "addedWidgets": {},
       "aggData": [],
       "aggError": "",
       "aggOverflow": false,
       "aggSchema": [],
       "aggSeriesLimitReached": false,
       "aggType": "",
       "arguments": {},
       "columnCustomDisplayInfos": {},
       "data": [],
       "datasetInfos": [],
       "dbfsResultPath": null,
       "isJsonSchema": true,
       "metadata": {},
       "overflow": false,
       "plotOptions": {
        "customPlotOptions": {},
        "displayType": "table",
        "pivotAggregation": null,
        "pivotColumns": null,
        "xColumns": null,
        "yColumns": null
       },
       "removedWidgets": [],
       "schema": [
        {
         "metadata": "{}",
         "name": "num_affected_rows",
         "type": "\"long\""
        },
        {
         "metadata": "{}",
         "name": "num_inserted_rows",
         "type": "\"long\""
        }
       ],
       "type": "table"
      }
     },
     "output_type": "display_data"
    }
   ],
   "source": [
    "%sql\n",
    "CREATE OR REPLACE TABLE gold.genre_performance_analysis\n",
    "USING delta\n",
    "COMMENT 'Análise de desempenho (avaliação média, popularidade média, contagem) por gênero. Inclui apenas gêneros com mais de 100 séries para relevância estatística.'\n",
    "AS\n",
    "SELECT\n",
    "  g.genre,\n",
    "  ROUND(AVG(f.vote_average), 2) AS avg_rating,\n",
    "  ROUND(AVG(f.popularity), 2) AS avg_popularity,\n",
    "  COUNT(DISTINCT f.id) AS num_series -- Usar DISTINCT id para contar séries únicas por gênero\n",
    "FROM silver.fact_series f\n",
    "JOIN silver.dim_genres g ON f.id = g.serie_id\n",
    "GROUP BY g.genre\n",
    "HAVING COUNT(DISTINCT f.id) >= 100  -- Filtra gêneros com representatividade\n",
    "ORDER BY avg_rating DESC;"
   ]
  },
  {
   "cell_type": "code",
   "execution_count": 0,
   "metadata": {
    "application/vnd.databricks.v1+cell": {
     "cellMetadata": {
      "byteLimit": 2048000,
      "implicitDf": true,
      "rowLimit": 10000
     },
     "inputWidgets": {},
     "nuid": "fd62ed6a-1e6b-4031-8904-08c3ef949a06",
     "showTitle": true,
     "tableResultSettingsMap": {},
     "title": "Visualiza o resultado da análise de gênero"
    }
   },
   "outputs": [
    {
     "output_type": "display_data",
     "data": {
      "text/html": [
       "<style scoped>\n",
       "  .table-result-container {\n",
       "    max-height: 300px;\n",
       "    overflow: auto;\n",
       "  }\n",
       "  table, th, td {\n",
       "    border: 1px solid black;\n",
       "    border-collapse: collapse;\n",
       "  }\n",
       "  th, td {\n",
       "    padding: 5px;\n",
       "  }\n",
       "  th {\n",
       "    text-align: left;\n",
       "  }\n",
       "</style><div class='table-result-container'><table class='table-result'><thead style='background-color: white'><tr><th>genre</th><th>avg_rating</th><th>avg_popularity</th><th>num_series</th></tr></thead><tbody><tr><td>Animation</td><td>7.95</td><td>73.06</td><td>783</td></tr><tr><td>Comedy</td><td>7.74</td><td>86.94</td><td>1041</td></tr><tr><td>Action & Adventure</td><td>7.73</td><td>77.09</td><td>784</td></tr><tr><td>Family</td><td>7.73</td><td>102.31</td><td>229</td></tr><tr><td>Sci-Fi & Fantasy</td><td>7.68</td><td>69.81</td><td>906</td></tr><tr><td>Drama</td><td>7.64</td><td>63.37</td><td>1747</td></tr><tr><td>Mystery</td><td>7.64</td><td>62.67</td><td>473</td></tr><tr><td>Crime</td><td>7.61</td><td>74.9</td><td>445</td></tr><tr><td>Kids</td><td>7.61</td><td>107.71</td><td>158</td></tr><tr><td>Documentary</td><td>7.56</td><td>24.25</td><td>106</td></tr></tbody></table></div>"
      ]
     },
     "metadata": {
      "application/vnd.databricks.v1+output": {
       "addedWidgets": {},
       "aggData": [],
       "aggError": "",
       "aggOverflow": false,
       "aggSchema": [],
       "aggSeriesLimitReached": false,
       "aggType": "",
       "arguments": {},
       "columnCustomDisplayInfos": {},
       "data": [
        [
         "Animation",
         7.95,
         73.06,
         783
        ],
        [
         "Comedy",
         7.74,
         86.94,
         1041
        ],
        [
         "Action & Adventure",
         7.73,
         77.09,
         784
        ],
        [
         "Family",
         7.73,
         102.31,
         229
        ],
        [
         "Sci-Fi & Fantasy",
         7.68,
         69.81,
         906
        ],
        [
         "Drama",
         7.64,
         63.37,
         1747
        ],
        [
         "Mystery",
         7.64,
         62.67,
         473
        ],
        [
         "Crime",
         7.61,
         74.9,
         445
        ],
        [
         "Kids",
         7.61,
         107.71,
         158
        ],
        [
         "Documentary",
         7.56,
         24.25,
         106
        ]
       ],
       "datasetInfos": [],
       "dbfsResultPath": null,
       "isJsonSchema": true,
       "metadata": {},
       "overflow": false,
       "plotOptions": {
        "customPlotOptions": {},
        "displayType": "table",
        "pivotAggregation": null,
        "pivotColumns": null,
        "xColumns": null,
        "yColumns": null
       },
       "removedWidgets": [],
       "schema": [
        {
         "metadata": "{\"comment\":\"Gênero associado à série\"}",
         "name": "genre",
         "type": "\"string\""
        },
        {
         "metadata": "{}",
         "name": "avg_rating",
         "type": "\"double\""
        },
        {
         "metadata": "{}",
         "name": "avg_popularity",
         "type": "\"double\""
        },
        {
         "metadata": "{}",
         "name": "num_series",
         "type": "\"long\""
        }
       ],
       "type": "table"
      }
     },
     "output_type": "display_data"
    },
    {
     "output_type": "display_data",
     "data": {
      "text/plain": [
       "Databricks visualization. Run in Databricks to view."
      ]
     },
     "metadata": {
      "application/vnd.databricks.v1.subcommand+json": {
       "baseErrorDetails": null,
       "bindings": {},
       "collapsed": false,
       "command": "%sql WITH q AS (SELECT * FROM gold.genre_performance_analysis ORDER BY avg_rating DESC LIMIT 10) SELECT `avg_popularity`,`avg_rating`,`genre` FROM q",
       "commandTitle": "Gráfico",
       "commandType": "auto",
       "commandVersion": 0,
       "commentThread": [],
       "commentsVisible": false,
       "contentSha256Hex": null,
       "customPlotOptions": {
        "redashChart": [
         {
          "key": "type",
          "value": "CHART"
         },
         {
          "key": "options",
          "value": {
           "alignYAxesAtZero": true,
           "coefficient": 1,
           "columnConfigurationMap": {
            "series": {
             "column": "genre",
             "id": "column_f293378a66"
            },
            "x": {
             "column": "avg_popularity",
             "id": "column_f293378a65"
            },
            "y": [
             {
              "column": "avg_rating",
              "id": "column_f293378a63"
             }
            ]
           },
           "dateTimeFormat": "DD/MM/YYYY HH:mm",
           "direction": {
            "type": "counterclockwise"
           },
           "error_y": {
            "type": "data",
            "visible": true
           },
           "globalSeriesType": "scatter",
           "legend": {
            "traceorder": "normal"
           },
           "missingValuesAsZero": true,
           "numberFormat": "0,0.[00000]",
           "percentFormat": "0[.]00%",
           "series": {
            "error_y": {
             "type": "data",
             "visible": true
            },
            "stacking": null
           },
           "seriesOptions": {
            "avg_rating": {
             "type": "scatter",
             "yAxis": 0
            },
            "column_f293378a63": {
             "type": "scatter",
             "yAxis": 0
            }
           },
           "showDataLabels": false,
           "sizemode": "diameter",
           "sortX": true,
           "sortY": true,
           "swappedAxes": false,
           "textFormat": "",
           "useAggregationsUi": true,
           "valuesOptions": {},
           "version": 2,
           "xAxis": {
            "labels": {
             "enabled": true
            },
            "type": "-"
           },
           "yAxis": [
            {
             "type": "-"
            },
            {
             "opposite": true,
             "type": "-"
            }
           ]
          }
         }
        ]
       },
       "datasetPreviewNameToCmdIdMap": {},
       "diffDeletes": [],
       "diffInserts": [],
       "displayType": "redashChart",
       "error": null,
       "errorDetails": null,
       "errorSummary": null,
       "errorTraceType": null,
       "finishTime": 0,
       "globalVars": {},
       "guid": "",
       "height": "auto",
       "hideCommandCode": false,
       "hideCommandResult": false,
       "iPythonMetadata": null,
       "inputWidgets": {},
       "isLockedInExamMode": false,
       "latestUser": "a user",
       "latestUserId": null,
       "listResultMetadata": null,
       "metadata": {},
       "nuid": "bebe0c10-3639-42f5-8a5f-e252f9eadf14",
       "origId": 0,
       "parentHierarchy": [],
       "pivotAggregation": null,
       "pivotColumns": null,
       "position": 26.0,
       "resultDbfsErrorMessage": null,
       "resultDbfsStatus": "INLINED_IN_TREE",
       "results": null,
       "showCommandTitle": false,
       "startTime": 0,
       "state": "input",
       "streamStates": {},
       "subcommandOptions": {
        "queryPlan": {
         "selects": [
          {
           "column": "avg_popularity",
           "type": "column"
          },
          {
           "column": "avg_rating",
           "type": "column"
          },
          {
           "column": "genre",
           "type": "column"
          }
         ]
        }
       },
       "submitTime": 0,
       "subtype": "tableResultSubCmd.visualization",
       "tableResultIndex": 0,
       "tableResultSettingsMap": {},
       "useConsistentColors": false,
       "version": "CommandV1",
       "width": "auto",
       "workflows": [],
       "xColumns": null,
       "yColumns": null
      }
     },
     "output_type": "display_data"
    }
   ],
   "source": [
    "%sql\n",
    "SELECT * FROM gold.genre_performance_analysis ORDER BY avg_rating DESC LIMIT 10;"
   ]
  },
  {
   "cell_type": "markdown",
   "metadata": {
    "application/vnd.databricks.v1+cell": {
     "cellMetadata": {},
     "inputWidgets": {},
     "nuid": "b1152663-a0d6-433a-a183-4376df867547",
     "showTitle": false,
     "tableResultSettingsMap": {},
     "title": ""
    }
   },
   "source": [
    "#### **Insights: Desempenho por Gênero**\n",
    "\n",
    "*   **Comédia:** Segundo gênero mais bem avaliado (7.74) e alta popularidade (86.94). Apelo amplo e *rewatchability*.\n",
    "*   **Animação:** Melhor avaliação média (7.95), mas popularidade moderada (73.06). Nicho de qualidade.\n",
    "*   **Drama:** Maior volume de séries (1747), mas popularidade e avaliação medianas (63.37 / 7.64). Possível saturação ou variação de qualidade.\n",
    "*   **Kids & Family:** Popularidade muito alta, sugerindo forte engajamento do público-alvo.\n",
    "*   **Recomendação:** Focar em Comédia e Animação para equilíbrio de qualidade/alcance. Explorar subgêneros ou híbridos para Drama.\n"
   ]
  },
  {
   "cell_type": "markdown",
   "metadata": {
    "application/vnd.databricks.v1+cell": {
     "cellMetadata": {},
     "inputWidgets": {},
     "nuid": "d737c009-531c-4337-a202-b210639a4a11",
     "showTitle": false,
     "tableResultSettingsMap": {},
     "title": ""
    }
   },
   "source": [
    "### 4.2. Análise 2: Impacto do Número de Temporadas\n",
    "\n",
    "Séries com mais temporadas têm maior popularidade ou avaliação?\n"
   ]
  },
  {
   "cell_type": "code",
   "execution_count": 0,
   "metadata": {
    "application/vnd.databricks.v1+cell": {
     "cellMetadata": {
      "byteLimit": 2048000,
      "implicitDf": true,
      "rowLimit": 10000
     },
     "inputWidgets": {},
     "nuid": "f5597cfb-be31-4d52-a998-dd421f4f4e28",
     "showTitle": true,
     "tableResultSettingsMap": {},
     "title": "Análise 2 - query"
    }
   },
   "outputs": [
    {
     "output_type": "display_data",
     "data": {
      "text/html": [
       "<style scoped>\n",
       "  .table-result-container {\n",
       "    max-height: 300px;\n",
       "    overflow: auto;\n",
       "  }\n",
       "  table, th, td {\n",
       "    border: 1px solid black;\n",
       "    border-collapse: collapse;\n",
       "  }\n",
       "  th, td {\n",
       "    padding: 5px;\n",
       "  }\n",
       "  th {\n",
       "    text-align: left;\n",
       "  }\n",
       "</style><div class='table-result-container'><table class='table-result'><thead style='background-color: white'><tr><th>num_affected_rows</th><th>num_inserted_rows</th></tr></thead><tbody></tbody></table></div>"
      ]
     },
     "metadata": {
      "application/vnd.databricks.v1+output": {
       "addedWidgets": {},
       "aggData": [],
       "aggError": "",
       "aggOverflow": false,
       "aggSchema": [],
       "aggSeriesLimitReached": false,
       "aggType": "",
       "arguments": {},
       "columnCustomDisplayInfos": {},
       "data": [],
       "datasetInfos": [],
       "dbfsResultPath": null,
       "isJsonSchema": true,
       "metadata": {},
       "overflow": false,
       "plotOptions": {
        "customPlotOptions": {},
        "displayType": "table",
        "pivotAggregation": null,
        "pivotColumns": null,
        "xColumns": null,
        "yColumns": null
       },
       "removedWidgets": [],
       "schema": [
        {
         "metadata": "{}",
         "name": "num_affected_rows",
         "type": "\"long\""
        },
        {
         "metadata": "{}",
         "name": "num_inserted_rows",
         "type": "\"long\""
        }
       ],
       "type": "table"
      }
     },
     "output_type": "display_data"
    }
   ],
   "source": [
    "%sql\n",
    "CREATE OR REPLACE TABLE gold.season_impact_analysis\n",
    "USING delta\n",
    "COMMENT 'Análise do impacto do número de temporadas na avaliação e popularidade média. Exclui outliers e séries sem temporadas.'\n",
    "AS\n",
    "SELECT\n",
    "  number_of_seasons,\n",
    "  ROUND(AVG(vote_average), 2) AS avg_rating,\n",
    "  ROUND(AVG(popularity), 2) AS avg_popularity,\n",
    "  COUNT(*) AS num_series\n",
    "FROM silver.fact_series\n",
    "WHERE number_of_seasons > 0       -- Exclui séries com 0 temporadas\n",
    "  AND number_of_seasons <= 15     -- Filtro para outliers extremos (ajustar limite se necessário)\n",
    "GROUP BY number_of_seasons\n",
    "ORDER BY number_of_seasons;\n"
   ]
  },
  {
   "cell_type": "code",
   "execution_count": 0,
   "metadata": {
    "application/vnd.databricks.v1+cell": {
     "cellMetadata": {
      "byteLimit": 2048000,
      "implicitDf": true,
      "rowLimit": 10000
     },
     "inputWidgets": {},
     "nuid": "a6987dae-74f7-4b69-9adf-b66a4bba2d59",
     "showTitle": true,
     "tableResultSettingsMap": {},
     "title": "Visualiza o resultado da análise de temporadas"
    }
   },
   "outputs": [
    {
     "output_type": "display_data",
     "data": {
      "text/html": [
       "<style scoped>\n",
       "  .table-result-container {\n",
       "    max-height: 300px;\n",
       "    overflow: auto;\n",
       "  }\n",
       "  table, th, td {\n",
       "    border: 1px solid black;\n",
       "    border-collapse: collapse;\n",
       "  }\n",
       "  th, td {\n",
       "    padding: 5px;\n",
       "  }\n",
       "  th {\n",
       "    text-align: left;\n",
       "  }\n",
       "</style><div class='table-result-container'><table class='table-result'><thead style='background-color: white'><tr><th>number_of_seasons</th><th>avg_rating</th><th>avg_popularity</th><th>num_series</th></tr></thead><tbody><tr><td>1</td><td>7.62</td><td>34.55</td><td>1233</td></tr><tr><td>2</td><td>7.66</td><td>47.9</td><td>517</td></tr><tr><td>3</td><td>7.7</td><td>54.71</td><td>375</td></tr><tr><td>4</td><td>7.75</td><td>81.94</td><td>246</td></tr><tr><td>5</td><td>7.69</td><td>95.36</td><td>177</td></tr><tr><td>6</td><td>7.71</td><td>131.25</td><td>113</td></tr><tr><td>7</td><td>7.73</td><td>162.29</td><td>100</td></tr><tr><td>8</td><td>7.57</td><td>214.52</td><td>58</td></tr><tr><td>9</td><td>7.64</td><td>284.03</td><td>34</td></tr><tr><td>10</td><td>7.72</td><td>237.91</td><td>31</td></tr><tr><td>11</td><td>7.59</td><td>312.85</td><td>25</td></tr><tr><td>12</td><td>7.63</td><td>198.78</td><td>12</td></tr><tr><td>13</td><td>7.45</td><td>165.28</td><td>7</td></tr><tr><td>14</td><td>7.13</td><td>218.92</td><td>9</td></tr><tr><td>15</td><td>7.08</td><td>176.96</td><td>12</td></tr></tbody></table></div>"
      ]
     },
     "metadata": {
      "application/vnd.databricks.v1+output": {
       "addedWidgets": {},
       "aggData": [],
       "aggError": "",
       "aggOverflow": false,
       "aggSchema": [],
       "aggSeriesLimitReached": false,
       "aggType": "",
       "arguments": {},
       "columnCustomDisplayInfos": {},
       "data": [
        [
         1,
         7.62,
         34.55,
         1233
        ],
        [
         2,
         7.66,
         47.9,
         517
        ],
        [
         3,
         7.7,
         54.71,
         375
        ],
        [
         4,
         7.75,
         81.94,
         246
        ],
        [
         5,
         7.69,
         95.36,
         177
        ],
        [
         6,
         7.71,
         131.25,
         113
        ],
        [
         7,
         7.73,
         162.29,
         100
        ],
        [
         8,
         7.57,
         214.52,
         58
        ],
        [
         9,
         7.64,
         284.03,
         34
        ],
        [
         10,
         7.72,
         237.91,
         31
        ],
        [
         11,
         7.59,
         312.85,
         25
        ],
        [
         12,
         7.63,
         198.78,
         12
        ],
        [
         13,
         7.45,
         165.28,
         7
        ],
        [
         14,
         7.13,
         218.92,
         9
        ],
        [
         15,
         7.08,
         176.96,
         12
        ]
       ],
       "datasetInfos": [],
       "dbfsResultPath": null,
       "isJsonSchema": true,
       "metadata": {},
       "overflow": false,
       "plotOptions": {
        "customPlotOptions": {},
        "displayType": "table",
        "pivotAggregation": null,
        "pivotColumns": null,
        "xColumns": null,
        "yColumns": null
       },
       "removedWidgets": [],
       "schema": [
        {
         "metadata": "{\"comment\":\"Número de temporadas produzidas\"}",
         "name": "number_of_seasons",
         "type": "\"long\""
        },
        {
         "metadata": "{}",
         "name": "avg_rating",
         "type": "\"double\""
        },
        {
         "metadata": "{}",
         "name": "avg_popularity",
         "type": "\"double\""
        },
        {
         "metadata": "{}",
         "name": "num_series",
         "type": "\"long\""
        }
       ],
       "type": "table"
      }
     },
     "output_type": "display_data"
    },
    {
     "output_type": "display_data",
     "data": {
      "text/plain": [
       "Databricks visualization. Run in Databricks to view."
      ]
     },
     "metadata": {
      "application/vnd.databricks.v1.subcommand+json": {
       "baseErrorDetails": null,
       "bindings": {},
       "collapsed": false,
       "command": "%sql WITH q AS (SELECT * FROM gold.season_impact_analysis ORDER BY number_of_seasons) SELECT `number_of_seasons`,SUM(`avg_rating`) `column_f293378a69`,SUM(`avg_popularity`) `column_f293378a72` FROM q GROUP BY `number_of_seasons`",
       "commandTitle": "Gráfico",
       "commandType": "auto",
       "commandVersion": 0,
       "commentThread": [],
       "commentsVisible": false,
       "contentSha256Hex": null,
       "customPlotOptions": {
        "redashChart": [
         {
          "key": "type",
          "value": "CHART"
         },
         {
          "key": "options",
          "value": {
           "alignYAxesAtZero": true,
           "coefficient": 1,
           "columnConfigurationMap": {
            "x": {
             "column": "number_of_seasons",
             "id": "column_f293378a67"
            },
            "y": [
             {
              "column": "avg_rating",
              "id": "column_f293378a69",
              "transform": "SUM"
             },
             {
              "column": "avg_popularity",
              "id": "column_f293378a72",
              "transform": "SUM"
             }
            ]
           },
           "dateTimeFormat": "DD/MM/YYYY HH:mm",
           "direction": {
            "type": "counterclockwise"
           },
           "error_y": {
            "type": "data",
            "visible": true
           },
           "globalSeriesType": "line",
           "hideYAxes": false,
           "isAggregationOn": true,
           "legend": {
            "traceorder": "normal"
           },
           "missingValuesAsZero": true,
           "numberFormat": "0,0.[00000]",
           "percentFormat": "0[.]00%",
           "series": {
            "error_y": {
             "type": "data",
             "visible": true
            },
            "stacking": null
           },
           "seriesOptions": {
            "column_f293378a69": {
             "type": "line",
             "yAxis": 1
            },
            "column_f293378a72": {
             "type": "line",
             "yAxis": 0
            }
           },
           "showDataLabels": false,
           "sizemode": "diameter",
           "sortX": true,
           "sortY": true,
           "swappedAxes": false,
           "textFormat": "",
           "useAggregationsUi": true,
           "valuesOptions": {},
           "version": 2,
           "xAxis": {
            "labels": {
             "enabled": true
            },
            "type": "-"
           },
           "yAxis": [
            {
             "type": "-"
            },
            {
             "opposite": true,
             "type": "-"
            }
           ]
          }
         }
        ]
       },
       "datasetPreviewNameToCmdIdMap": {},
       "diffDeletes": [],
       "diffInserts": [],
       "displayType": "redashChart",
       "error": null,
       "errorDetails": null,
       "errorSummary": null,
       "errorTraceType": null,
       "finishTime": 0,
       "globalVars": {},
       "guid": "",
       "height": "auto",
       "hideCommandCode": false,
       "hideCommandResult": false,
       "iPythonMetadata": null,
       "inputWidgets": {},
       "isLockedInExamMode": false,
       "latestUser": "a user",
       "latestUserId": null,
       "listResultMetadata": null,
       "metadata": {},
       "nuid": "3cb43987-ef6f-4c62-a3ae-8d37559b6d18",
       "origId": 0,
       "parentHierarchy": [],
       "pivotAggregation": null,
       "pivotColumns": null,
       "position": 30.0,
       "resultDbfsErrorMessage": null,
       "resultDbfsStatus": "INLINED_IN_TREE",
       "results": null,
       "showCommandTitle": false,
       "startTime": 0,
       "state": "input",
       "streamStates": {},
       "subcommandOptions": {
        "queryPlan": {
         "groups": [
          {
           "column": "number_of_seasons",
           "type": "column"
          }
         ],
         "selects": [
          {
           "column": "number_of_seasons",
           "type": "column"
          },
          {
           "alias": "column_f293378a69",
           "args": [
            {
             "column": "avg_rating",
             "type": "column"
            }
           ],
           "function": "SUM",
           "type": "function"
          },
          {
           "alias": "column_f293378a72",
           "args": [
            {
             "column": "avg_popularity",
             "type": "column"
            }
           ],
           "function": "SUM",
           "type": "function"
          }
         ]
        }
       },
       "submitTime": 0,
       "subtype": "tableResultSubCmd.visualization",
       "tableResultIndex": 0,
       "tableResultSettingsMap": {},
       "useConsistentColors": false,
       "version": "CommandV1",
       "width": "auto",
       "workflows": [],
       "xColumns": null,
       "yColumns": null
      }
     },
     "output_type": "display_data"
    }
   ],
   "source": [
    "%sql\n",
    "SELECT * FROM gold.season_impact_analysis ORDER BY number_of_seasons;"
   ]
  },
  {
   "cell_type": "markdown",
   "metadata": {
    "application/vnd.databricks.v1+cell": {
     "cellMetadata": {},
     "inputWidgets": {},
     "nuid": "e04aa1fd-418b-41fa-86d5-94f644a2865d",
     "showTitle": false,
     "tableResultSettingsMap": {},
     "title": ""
    }
   },
   "source": [
    "#### **Insights: Impacto do Número de Temporadas**\n",
    "\n",
    "*   **Popularidade Crescente:** A popularidade média tende a aumentar significativamente com o número de temporadas, indicando que séries mais longas constroem uma base de fãs e relevância cultural.\n",
    "*   **Avaliação Estável/Pico:** A avaliação média permanece relativamente estável, com um leve pico em torno de 4-7 temporadas, sugerindo que a qualidade percebida não necessariamente aumenta com a longevidade (pode até cair após certo ponto).\n",
    "*   **Minisséries (1 Temporada):** Possuem avaliação boa (7.62), mas popularidade inicial bem menor. Representam uma oportunidade para conteúdo de nicho ou \"eventos\".\n",
    "*   **Recomendação:** Séries mais longas (5-10 temporadas) parecem ser melhores para construir popularidade e engajamento a longo prazo, mas é crucial manter a qualidade narrativa para evitar quedas na avaliação.\n"
   ]
  },
  {
   "cell_type": "markdown",
   "metadata": {
    "application/vnd.databricks.v1+cell": {
     "cellMetadata": {},
     "inputWidgets": {},
     "nuid": "04124fd0-cab1-4eee-ad77-804ea11783d7",
     "showTitle": false,
     "tableResultSettingsMap": {},
     "title": ""
    }
   },
   "source": [
    "### 4.3. Análise 3: Desempenho por Plataforma (Principais Streamers)\n",
    "\n",
    "Quais plataformas (networks) distribuem as séries mais populares e bem avaliadas entre os grandes players?\n"
   ]
  },
  {
   "cell_type": "code",
   "execution_count": 0,
   "metadata": {
    "application/vnd.databricks.v1+cell": {
     "cellMetadata": {
      "byteLimit": 2048000,
      "implicitDf": true,
      "rowLimit": 10000
     },
     "inputWidgets": {},
     "nuid": "f8669a52-f15b-4549-94f8-6bf0519251f7",
     "showTitle": true,
     "tableResultSettingsMap": {},
     "title": "Análise 3 - query"
    }
   },
   "outputs": [
    {
     "output_type": "display_data",
     "data": {
      "text/html": [
       "<style scoped>\n",
       "  .table-result-container {\n",
       "    max-height: 300px;\n",
       "    overflow: auto;\n",
       "  }\n",
       "  table, th, td {\n",
       "    border: 1px solid black;\n",
       "    border-collapse: collapse;\n",
       "  }\n",
       "  th, td {\n",
       "    padding: 5px;\n",
       "  }\n",
       "  th {\n",
       "    text-align: left;\n",
       "  }\n",
       "</style><div class='table-result-container'><table class='table-result'><thead style='background-color: white'><tr><th>num_affected_rows</th><th>num_inserted_rows</th></tr></thead><tbody></tbody></table></div>"
      ]
     },
     "metadata": {
      "application/vnd.databricks.v1+output": {
       "addedWidgets": {},
       "aggData": [],
       "aggError": "",
       "aggOverflow": false,
       "aggSchema": [],
       "aggSeriesLimitReached": false,
       "aggType": "",
       "arguments": {},
       "columnCustomDisplayInfos": {},
       "data": [],
       "datasetInfos": [],
       "dbfsResultPath": null,
       "isJsonSchema": true,
       "metadata": {},
       "overflow": false,
       "plotOptions": {
        "customPlotOptions": {},
        "displayType": "table",
        "pivotAggregation": null,
        "pivotColumns": null,
        "xColumns": null,
        "yColumns": null
       },
       "removedWidgets": [],
       "schema": [
        {
         "metadata": "{}",
         "name": "num_affected_rows",
         "type": "\"long\""
        },
        {
         "metadata": "{}",
         "name": "num_inserted_rows",
         "type": "\"long\""
        }
       ],
       "type": "table"
      }
     },
     "output_type": "display_data"
    }
   ],
   "source": [
    "%sql\n",
    "CREATE OR REPLACE TABLE gold.platform_performance_analysis\n",
    "USING delta\n",
    "COMMENT 'Análise de desempenho (avaliação, popularidade, contagem) por plataforma de streaming padronizada (Netflix, HBO, Disney+, etc.).'\n",
    "AS\n",
    "WITH PlatformMapping AS (\n",
    "  -- Mapeia nomes variantes de redes para nomes padronizados\n",
    "  SELECT\n",
    "    serie_id,\n",
    "    CASE\n",
    "      WHEN LOWER(network) LIKE '%netflix%' THEN 'Netflix'\n",
    "      WHEN LOWER(network) LIKE '%hbo%' OR LOWER(network) LIKE '%max%' THEN 'HBO/Max' -- Agrupando HBO e Max\n",
    "      WHEN LOWER(network) LIKE '%disney+%' OR LOWER(network) LIKE '%disney plus%' OR LOWER(network) LIKE '%star+%' THEN 'Disney+' -- Inclui Star+\n",
    "      WHEN LOWER(network) LIKE '%hulu%' THEN 'Hulu'\n",
    "      WHEN LOWER(network) LIKE '%amazon%' OR LOWER(network) LIKE '%prime video%' THEN 'Amazon Prime Video'\n",
    "      WHEN LOWER(network) LIKE '%apple tv+%' OR LOWER(network) LIKE '%apple tv%' THEN 'Apple TV+'\n",
    "      WHEN LOWER(network) LIKE '%paramount+%' THEN 'Paramount+'\n",
    "      WHEN LOWER(network) LIKE '%showtime%' THEN 'Showtime'\n",
    "      WHEN LOWER(network) LIKE '%fx%' OR LOWER(network) LIKE '%fxx%' THEN 'FX' -- Parte da Disney, mas pode ser interessante separar\n",
    "      WHEN LOWER(network) LIKE '%amc%' THEN 'AMC'\n",
    "      ELSE NULL -- Ignora outras redes menores ou canais abertos para focar nos streamers\n",
    "    END AS platform_standardized\n",
    "  FROM silver.dim_networks\n",
    ")\n",
    "SELECT\n",
    "  pm.platform_standardized,\n",
    "  ROUND(AVG(f.vote_average), 2) AS avg_rating,\n",
    "  ROUND(AVG(f.popularity), 2) AS avg_popularity,\n",
    "  COUNT(DISTINCT f.id) AS num_series\n",
    "FROM silver.fact_series f\n",
    "JOIN PlatformMapping pm ON f.id = pm.serie_id\n",
    "WHERE pm.platform_standardized IS NOT NULL -- Considera apenas as plataformas mapeadas\n",
    "GROUP BY pm.platform_standardized\n",
    "HAVING COUNT(DISTINCT f.id) >= 10  -- Filtra plataformas com catálogo relevante no dataset filtrado\n",
    "ORDER BY avg_popularity DESC;\n"
   ]
  },
  {
   "cell_type": "code",
   "execution_count": 0,
   "metadata": {
    "application/vnd.databricks.v1+cell": {
     "cellMetadata": {
      "byteLimit": 2048000,
      "implicitDf": true,
      "rowLimit": 10000
     },
     "inputWidgets": {},
     "nuid": "dc8a904c-eaf7-4426-a670-f176a34d739e",
     "showTitle": true,
     "tableResultSettingsMap": {},
     "title": "Visualiza o resultado da análise de plataformas (Popularidade)"
    }
   },
   "outputs": [
    {
     "output_type": "display_data",
     "data": {
      "text/html": [
       "<style scoped>\n",
       "  .table-result-container {\n",
       "    max-height: 300px;\n",
       "    overflow: auto;\n",
       "  }\n",
       "  table, th, td {\n",
       "    border: 1px solid black;\n",
       "    border-collapse: collapse;\n",
       "  }\n",
       "  th, td {\n",
       "    padding: 5px;\n",
       "  }\n",
       "  th {\n",
       "    text-align: left;\n",
       "  }\n",
       "</style><div class='table-result-container'><table class='table-result'><thead style='background-color: white'><tr><th>platform_standardized</th><th>avg_rating</th><th>avg_popularity</th><th>num_series</th></tr></thead><tbody><tr><td>AMC</td><td>7.8</td><td>134.63</td><td>20</td></tr><tr><td>Paramount+</td><td>7.78</td><td>103.97</td><td>26</td></tr><tr><td>Disney+</td><td>7.64</td><td>80.95</td><td>49</td></tr><tr><td>Showtime</td><td>7.62</td><td>75.47</td><td>34</td></tr><tr><td>HBO/Max</td><td>7.63</td><td>68.45</td><td>148</td></tr><tr><td>FX</td><td>7.68</td><td>63.14</td><td>36</td></tr><tr><td>Hulu</td><td>7.59</td><td>54.57</td><td>51</td></tr><tr><td>Apple TV+</td><td>7.78</td><td>54.02</td><td>35</td></tr><tr><td>Amazon Prime Video</td><td>7.51</td><td>43.51</td><td>75</td></tr><tr><td>Netflix</td><td>7.56</td><td>36.32</td><td>436</td></tr></tbody></table></div>"
      ]
     },
     "metadata": {
      "application/vnd.databricks.v1+output": {
       "addedWidgets": {},
       "aggData": [],
       "aggError": "",
       "aggOverflow": false,
       "aggSchema": [],
       "aggSeriesLimitReached": false,
       "aggType": "",
       "arguments": {},
       "columnCustomDisplayInfos": {},
       "data": [
        [
         "AMC",
         7.8,
         134.63,
         20
        ],
        [
         "Paramount+",
         7.78,
         103.97,
         26
        ],
        [
         "Disney+",
         7.64,
         80.95,
         49
        ],
        [
         "Showtime",
         7.62,
         75.47,
         34
        ],
        [
         "HBO/Max",
         7.63,
         68.45,
         148
        ],
        [
         "FX",
         7.68,
         63.14,
         36
        ],
        [
         "Hulu",
         7.59,
         54.57,
         51
        ],
        [
         "Apple TV+",
         7.78,
         54.02,
         35
        ],
        [
         "Amazon Prime Video",
         7.51,
         43.51,
         75
        ],
        [
         "Netflix",
         7.56,
         36.32,
         436
        ]
       ],
       "datasetInfos": [],
       "dbfsResultPath": null,
       "isJsonSchema": true,
       "metadata": {},
       "overflow": false,
       "plotOptions": {
        "customPlotOptions": {},
        "displayType": "table",
        "pivotAggregation": null,
        "pivotColumns": null,
        "xColumns": null,
        "yColumns": null
       },
       "removedWidgets": [],
       "schema": [
        {
         "metadata": "{}",
         "name": "platform_standardized",
         "type": "\"string\""
        },
        {
         "metadata": "{}",
         "name": "avg_rating",
         "type": "\"double\""
        },
        {
         "metadata": "{}",
         "name": "avg_popularity",
         "type": "\"double\""
        },
        {
         "metadata": "{}",
         "name": "num_series",
         "type": "\"long\""
        }
       ],
       "type": "table"
      }
     },
     "output_type": "display_data"
    },
    {
     "output_type": "display_data",
     "data": {
      "text/plain": [
       "Databricks visualization. Run in Databricks to view."
      ]
     },
     "metadata": {
      "application/vnd.databricks.v1.subcommand+json": {
       "baseErrorDetails": null,
       "bindings": {},
       "collapsed": false,
       "command": "%sql WITH q AS (SELECT * FROM gold.platform_performance_analysis ORDER BY avg_popularity DESC) SELECT `avg_popularity`,`avg_rating` FROM q",
       "commandTitle": "Gráfico",
       "commandType": "auto",
       "commandVersion": 0,
       "commentThread": [],
       "commentsVisible": false,
       "contentSha256Hex": null,
       "customPlotOptions": {
        "redashChart": [
         {
          "key": "type",
          "value": "CHART"
         },
         {
          "key": "options",
          "value": {
           "alignYAxesAtZero": true,
           "coefficient": 1,
           "columnConfigurationMap": {
            "x": {
             "column": "avg_popularity",
             "id": "column_f293378a82"
            },
            "y": [
             {
              "column": "avg_rating",
              "id": "column_f293378a83"
             }
            ]
           },
           "dateTimeFormat": "DD/MM/YYYY HH:mm",
           "direction": {
            "type": "counterclockwise"
           },
           "error_y": {
            "type": "data",
            "visible": true
           },
           "globalSeriesType": "scatter",
           "legend": {
            "traceorder": "normal"
           },
           "missingValuesAsZero": true,
           "numberFormat": "0,0.[00000]",
           "percentFormat": "0[.]00%",
           "series": {
            "error_y": {
             "type": "data",
             "visible": true
            },
            "stacking": null
           },
           "seriesOptions": {
            "avg_rating": {
             "type": "scatter",
             "yAxis": 0
            }
           },
           "showDataLabels": false,
           "sizemode": "diameter",
           "sortX": true,
           "sortY": true,
           "swappedAxes": false,
           "textFormat": "",
           "useAggregationsUi": true,
           "valuesOptions": {},
           "version": 2,
           "xAxis": {
            "labels": {
             "enabled": true
            },
            "type": "-"
           },
           "yAxis": [
            {
             "type": "-"
            },
            {
             "opposite": true,
             "type": "-"
            }
           ]
          }
         }
        ]
       },
       "datasetPreviewNameToCmdIdMap": {},
       "diffDeletes": [],
       "diffInserts": [],
       "displayType": "redashChart",
       "error": null,
       "errorDetails": null,
       "errorSummary": null,
       "errorTraceType": null,
       "finishTime": 0,
       "globalVars": {},
       "guid": "",
       "height": "auto",
       "hideCommandCode": false,
       "hideCommandResult": false,
       "iPythonMetadata": null,
       "inputWidgets": {},
       "isLockedInExamMode": false,
       "latestUser": "a user",
       "latestUserId": null,
       "listResultMetadata": null,
       "metadata": {},
       "nuid": "2ae3c7c4-d0be-4e34-86c5-08b7e2fccd02",
       "origId": 0,
       "parentHierarchy": [],
       "pivotAggregation": null,
       "pivotColumns": null,
       "position": 34.0,
       "resultDbfsErrorMessage": null,
       "resultDbfsStatus": "INLINED_IN_TREE",
       "results": null,
       "showCommandTitle": false,
       "startTime": 0,
       "state": "input",
       "streamStates": {},
       "subcommandOptions": {
        "queryPlan": {
         "selects": [
          {
           "column": "avg_popularity",
           "type": "column"
          },
          {
           "column": "avg_rating",
           "type": "column"
          }
         ]
        }
       },
       "submitTime": 0,
       "subtype": "tableResultSubCmd.visualization",
       "tableResultIndex": 0,
       "tableResultSettingsMap": {},
       "useConsistentColors": false,
       "version": "CommandV1",
       "width": "auto",
       "workflows": [],
       "xColumns": null,
       "yColumns": null
      }
     },
     "output_type": "display_data"
    }
   ],
   "source": [
    "%sql\n",
    "SELECT * FROM gold.platform_performance_analysis ORDER BY avg_popularity DESC;\n"
   ]
  },
  {
   "cell_type": "code",
   "execution_count": 0,
   "metadata": {
    "application/vnd.databricks.v1+cell": {
     "cellMetadata": {
      "byteLimit": 2048000,
      "implicitDf": true,
      "rowLimit": 10000
     },
     "inputWidgets": {},
     "nuid": "257f1024-2c31-4e38-9e7a-ad8106443f97",
     "showTitle": true,
     "tableResultSettingsMap": {},
     "title": "Visualiza o resultado da análise de plataformas (Avaliação)"
    }
   },
   "outputs": [
    {
     "output_type": "display_data",
     "data": {
      "text/html": [
       "<style scoped>\n",
       "  .table-result-container {\n",
       "    max-height: 300px;\n",
       "    overflow: auto;\n",
       "  }\n",
       "  table, th, td {\n",
       "    border: 1px solid black;\n",
       "    border-collapse: collapse;\n",
       "  }\n",
       "  th, td {\n",
       "    padding: 5px;\n",
       "  }\n",
       "  th {\n",
       "    text-align: left;\n",
       "  }\n",
       "</style><div class='table-result-container'><table class='table-result'><thead style='background-color: white'><tr><th>platform_standardized</th><th>avg_rating</th><th>avg_popularity</th><th>num_series</th></tr></thead><tbody><tr><td>AMC</td><td>7.8</td><td>134.63</td><td>20</td></tr><tr><td>Paramount+</td><td>7.78</td><td>103.97</td><td>26</td></tr><tr><td>Apple TV+</td><td>7.78</td><td>54.02</td><td>35</td></tr><tr><td>FX</td><td>7.68</td><td>63.14</td><td>36</td></tr><tr><td>Disney+</td><td>7.64</td><td>80.95</td><td>49</td></tr><tr><td>HBO/Max</td><td>7.63</td><td>68.45</td><td>148</td></tr><tr><td>Showtime</td><td>7.62</td><td>75.47</td><td>34</td></tr><tr><td>Hulu</td><td>7.59</td><td>54.57</td><td>51</td></tr><tr><td>Netflix</td><td>7.56</td><td>36.32</td><td>436</td></tr><tr><td>Amazon Prime Video</td><td>7.51</td><td>43.51</td><td>75</td></tr></tbody></table></div>"
      ]
     },
     "metadata": {
      "application/vnd.databricks.v1+output": {
       "addedWidgets": {},
       "aggData": [],
       "aggError": "",
       "aggOverflow": false,
       "aggSchema": [],
       "aggSeriesLimitReached": false,
       "aggType": "",
       "arguments": {},
       "columnCustomDisplayInfos": {},
       "data": [
        [
         "AMC",
         7.8,
         134.63,
         20
        ],
        [
         "Paramount+",
         7.78,
         103.97,
         26
        ],
        [
         "Apple TV+",
         7.78,
         54.02,
         35
        ],
        [
         "FX",
         7.68,
         63.14,
         36
        ],
        [
         "Disney+",
         7.64,
         80.95,
         49
        ],
        [
         "HBO/Max",
         7.63,
         68.45,
         148
        ],
        [
         "Showtime",
         7.62,
         75.47,
         34
        ],
        [
         "Hulu",
         7.59,
         54.57,
         51
        ],
        [
         "Netflix",
         7.56,
         36.32,
         436
        ],
        [
         "Amazon Prime Video",
         7.51,
         43.51,
         75
        ]
       ],
       "datasetInfos": [],
       "dbfsResultPath": null,
       "isJsonSchema": true,
       "metadata": {},
       "overflow": false,
       "plotOptions": {
        "customPlotOptions": {},
        "displayType": "table",
        "pivotAggregation": null,
        "pivotColumns": null,
        "xColumns": null,
        "yColumns": null
       },
       "removedWidgets": [],
       "schema": [
        {
         "metadata": "{}",
         "name": "platform_standardized",
         "type": "\"string\""
        },
        {
         "metadata": "{}",
         "name": "avg_rating",
         "type": "\"double\""
        },
        {
         "metadata": "{}",
         "name": "avg_popularity",
         "type": "\"double\""
        },
        {
         "metadata": "{}",
         "name": "num_series",
         "type": "\"long\""
        }
       ],
       "type": "table"
      }
     },
     "output_type": "display_data"
    },
    {
     "output_type": "display_data",
     "data": {
      "text/plain": [
       "Databricks visualization. Run in Databricks to view."
      ]
     },
     "metadata": {
      "application/vnd.databricks.v1.subcommand+json": {
       "baseErrorDetails": null,
       "bindings": {},
       "collapsed": false,
       "command": "%sql WITH q AS (SELECT * FROM gold.platform_performance_analysis ORDER BY avg_rating DESC) SELECT `avg_popularity`,`avg_rating` FROM q",
       "commandTitle": "Gráfico",
       "commandType": "auto",
       "commandVersion": 0,
       "commentThread": [],
       "commentsVisible": false,
       "contentSha256Hex": null,
       "customPlotOptions": {
        "redashChart": [
         {
          "key": "type",
          "value": "CHART"
         },
         {
          "key": "options",
          "value": {
           "alignYAxesAtZero": true,
           "coefficient": 1,
           "columnConfigurationMap": {
            "x": {
             "column": "avg_popularity",
             "id": "column_f293378a87"
            },
            "y": [
             {
              "column": "avg_rating",
              "id": "column_f293378a89"
             }
            ]
           },
           "dateTimeFormat": "DD/MM/YYYY HH:mm",
           "direction": {
            "type": "counterclockwise"
           },
           "error_y": {
            "type": "data",
            "visible": true
           },
           "globalSeriesType": "scatter",
           "legend": {
            "traceorder": "normal"
           },
           "missingValuesAsZero": true,
           "numberFormat": "0,0.[00000]",
           "percentFormat": "0[.]00%",
           "series": {
            "error_y": {
             "type": "data",
             "visible": true
            },
            "stacking": null
           },
           "seriesOptions": {
            "avg_rating": {
             "type": "scatter",
             "yAxis": 0
            },
            "column_f293378a89": {
             "type": "scatter",
             "yAxis": 0
            }
           },
           "showDataLabels": false,
           "sizemode": "diameter",
           "sortX": true,
           "sortY": true,
           "swappedAxes": false,
           "textFormat": "",
           "useAggregationsUi": true,
           "valuesOptions": {},
           "version": 2,
           "xAxis": {
            "labels": {
             "enabled": true
            },
            "type": "-"
           },
           "yAxis": [
            {
             "type": "-"
            },
            {
             "opposite": true,
             "type": "-"
            }
           ]
          }
         }
        ]
       },
       "datasetPreviewNameToCmdIdMap": {},
       "diffDeletes": [],
       "diffInserts": [],
       "displayType": "redashChart",
       "error": null,
       "errorDetails": null,
       "errorSummary": null,
       "errorTraceType": null,
       "finishTime": 0,
       "globalVars": {},
       "guid": "",
       "height": "auto",
       "hideCommandCode": false,
       "hideCommandResult": false,
       "iPythonMetadata": null,
       "inputWidgets": {},
       "isLockedInExamMode": false,
       "latestUser": "a user",
       "latestUserId": null,
       "listResultMetadata": null,
       "metadata": {},
       "nuid": "14e0cb1d-f309-40b4-943e-5435f7c68d37",
       "origId": 0,
       "parentHierarchy": [],
       "pivotAggregation": null,
       "pivotColumns": null,
       "position": 35.0,
       "resultDbfsErrorMessage": null,
       "resultDbfsStatus": "INLINED_IN_TREE",
       "results": null,
       "showCommandTitle": false,
       "startTime": 0,
       "state": "input",
       "streamStates": {},
       "subcommandOptions": {
        "queryPlan": {
         "selects": [
          {
           "column": "avg_popularity",
           "type": "column"
          },
          {
           "column": "avg_rating",
           "type": "column"
          }
         ]
        }
       },
       "submitTime": 0,
       "subtype": "tableResultSubCmd.visualization",
       "tableResultIndex": 0,
       "tableResultSettingsMap": {},
       "useConsistentColors": false,
       "version": "CommandV1",
       "width": "auto",
       "workflows": [],
       "xColumns": null,
       "yColumns": null
      }
     },
     "output_type": "display_data"
    }
   ],
   "source": [
    "%sql\n",
    "SELECT * FROM gold.platform_performance_analysis ORDER BY avg_rating DESC;"
   ]
  },
  {
   "cell_type": "markdown",
   "metadata": {
    "application/vnd.databricks.v1+cell": {
     "cellMetadata": {},
     "inputWidgets": {},
     "nuid": "2b991c90-90ca-425a-be53-dfabaa9ae3eb",
     "showTitle": false,
     "tableResultSettingsMap": {},
     "title": ""
    }
   },
   "source": [
    "#### **Insights: Desempenho por Plataforma**\n",
    "\n",
    "*   **Popularidade:** Plataformas como Disney+, HBO/Max e Netflix geralmente lideram em popularidade média, impulsionadas por grandes franquias e lançamentos de alto perfil.\n",
    "*   **Qualidade (Avaliação):** Apple TV+ e HBO/Max frequentemente se destacam com as maiores médias de avaliação, refletindo um foco em conteúdo premium e aclamado pela crítica.\n",
    "*   **Volume vs. Nicho:** Netflix e Amazon Prime Video tendem a ter os maiores volumes de séries, enquanto Apple TV+ opera com um catálogo menor, mas curado. Disney+ equilibra volume (com bibliotecas da Fox/FX/Hulu) e popularidade.\n",
    "*   **Estratégias:**\n",
    "    *   *Netflix/Amazon:* Foco em volume e variedade, mas com desafio de manter a popularidade média alta.\n",
    "    *   *HBO/Apple:* Foco em qualidade e prestígio, resultando em avaliações mais altas.\n",
    "    *   *Disney+:* Alavanca IPs fortes para alta popularidade.\n",
    "*   **Recomendação:** A estratégia ideal depende do objetivo (alcance vs. prestígio). Concorrentes podem focar em nichos de alta qualidade (como Apple) ou tentar competir em volume com diferenciação (como Disney+ com suas franquias).\n"
   ]
  },
  {
   "cell_type": "markdown",
   "metadata": {
    "application/vnd.databricks.v1+cell": {
     "cellMetadata": {},
     "inputWidgets": {},
     "nuid": "5f36cd70-c9c7-41cd-994b-aa8623b56448",
     "showTitle": false,
     "tableResultSettingsMap": {},
     "title": ""
    }
   },
   "source": [
    "### 4.4. Análise 4: Proporção de Status por Gênero\n",
    "\n",
    "Qual é a proporção de séries em produção (Returning Series), finalizadas (Ended) ou canceladas (Canceled) e como isso varia por gênero principal?\n"
   ]
  },
  {
   "cell_type": "code",
   "execution_count": 0,
   "metadata": {
    "application/vnd.databricks.v1+cell": {
     "cellMetadata": {
      "byteLimit": 2048000,
      "implicitDf": true,
      "rowLimit": 10000
     },
     "inputWidgets": {},
     "nuid": "14d8dc9b-b9a6-4860-aaae-2254c9a03dc9",
     "showTitle": true,
     "tableResultSettingsMap": {},
     "title": "Análise 4 - query"
    }
   },
   "outputs": [
    {
     "output_type": "display_data",
     "data": {
      "text/html": [
       "<style scoped>\n",
       "  .table-result-container {\n",
       "    max-height: 300px;\n",
       "    overflow: auto;\n",
       "  }\n",
       "  table, th, td {\n",
       "    border: 1px solid black;\n",
       "    border-collapse: collapse;\n",
       "  }\n",
       "  th, td {\n",
       "    padding: 5px;\n",
       "  }\n",
       "  th {\n",
       "    text-align: left;\n",
       "  }\n",
       "</style><div class='table-result-container'><table class='table-result'><thead style='background-color: white'><tr><th>num_affected_rows</th><th>num_inserted_rows</th></tr></thead><tbody></tbody></table></div>"
      ]
     },
     "metadata": {
      "application/vnd.databricks.v1+output": {
       "addedWidgets": {},
       "aggData": [],
       "aggError": "",
       "aggOverflow": false,
       "aggSchema": [],
       "aggSeriesLimitReached": false,
       "aggType": "",
       "arguments": {},
       "columnCustomDisplayInfos": {},
       "data": [],
       "datasetInfos": [],
       "dbfsResultPath": null,
       "isJsonSchema": true,
       "metadata": {},
       "overflow": false,
       "plotOptions": {
        "customPlotOptions": {},
        "displayType": "table",
        "pivotAggregation": null,
        "pivotColumns": null,
        "xColumns": null,
        "yColumns": null
       },
       "removedWidgets": [],
       "schema": [
        {
         "metadata": "{}",
         "name": "num_affected_rows",
         "type": "\"long\""
        },
        {
         "metadata": "{}",
         "name": "num_inserted_rows",
         "type": "\"long\""
        }
       ],
       "type": "table"
      }
     },
     "output_type": "display_data"
    }
   ],
   "source": [
    "%sql\n",
    "CREATE OR REPLACE TABLE gold.status_by_genre_analysis\n",
    "USING delta\n",
    "COMMENT 'Análise da distribuição de status (Ended, Returning, Canceled) por gênero principal.'\n",
    "AS\n",
    "WITH GenreStatusCounts AS (\n",
    "  SELECT\n",
    "    g.genre,\n",
    "    f.status,\n",
    "    COUNT(DISTINCT f.id) AS num_series -- Contagem de séries únicas por gênero/status\n",
    "  FROM silver.fact_series f\n",
    "  JOIN silver.dim_genres g ON f.id = g.serie_id\n",
    "  -- Focar nos gêneros mais relevantes identificados na Análise 1 ou outros de interesse\n",
    "  WHERE g.genre IN ('Animation', 'Comedy', 'Action & Adventure', 'Family', 'Sci-Fi & Fantasy', 'Drama', 'Mystery', 'Crime', 'Kids', 'Documentary')\n",
    "    AND f.status IN ('Ended', 'Returning Series', 'Canceled') -- Focar nos status mais comuns\n",
    "  GROUP BY g.genre, f.status\n",
    "),\n",
    "GenreTotalCounts AS (\n",
    "  -- Calcula o total de séries por gênero para o cálculo percentual\n",
    "  SELECT\n",
    "    genre,\n",
    "    SUM(num_series) AS total_genre_series\n",
    "  FROM GenreStatusCounts\n",
    "  GROUP BY genre\n",
    ")\n",
    "SELECT\n",
    "  gs.genre,\n",
    "  gs.status,\n",
    "  gs.num_series,\n",
    "  ROUND(gs.num_series * 100.0 / gt.total_genre_series, 1) AS percent_of_genre\n",
    "FROM GenreStatusCounts gs\n",
    "JOIN GenreTotalCounts gt ON gs.genre = gt.genre\n",
    "ORDER BY gs.genre, gs.status;\n"
   ]
  },
  {
   "cell_type": "code",
   "execution_count": 0,
   "metadata": {
    "application/vnd.databricks.v1+cell": {
     "cellMetadata": {
      "byteLimit": 2048000,
      "implicitDf": true,
      "rowLimit": 10000
     },
     "inputWidgets": {},
     "nuid": "167aa9ae-2fff-49c2-9306-4d439532c81b",
     "showTitle": true,
     "tableResultSettingsMap": {},
     "title": "Visualiza o resultado da análise de status por gênero"
    }
   },
   "outputs": [
    {
     "output_type": "display_data",
     "data": {
      "text/html": [
       "<style scoped>\n",
       "  .table-result-container {\n",
       "    max-height: 300px;\n",
       "    overflow: auto;\n",
       "  }\n",
       "  table, th, td {\n",
       "    border: 1px solid black;\n",
       "    border-collapse: collapse;\n",
       "  }\n",
       "  th, td {\n",
       "    padding: 5px;\n",
       "  }\n",
       "  th {\n",
       "    text-align: left;\n",
       "  }\n",
       "</style><div class='table-result-container'><table class='table-result'><thead style='background-color: white'><tr><th>genre</th><th>status</th><th>num_series</th><th>percent_of_genre</th></tr></thead><tbody><tr><td>Action & Adventure</td><td>Ended</td><td>533</td><td>68.0</td></tr><tr><td>Action & Adventure</td><td>Returning Series</td><td>129</td><td>16.5</td></tr><tr><td>Action & Adventure</td><td>Canceled</td><td>122</td><td>15.6</td></tr><tr><td>Animation</td><td>Ended</td><td>627</td><td>80.1</td></tr><tr><td>Animation</td><td>Returning Series</td><td>121</td><td>15.5</td></tr><tr><td>Animation</td><td>Canceled</td><td>35</td><td>4.5</td></tr><tr><td>Comedy</td><td>Ended</td><td>762</td><td>73.2</td></tr><tr><td>Comedy</td><td>Returning Series</td><td>147</td><td>14.1</td></tr><tr><td>Comedy</td><td>Canceled</td><td>132</td><td>12.7</td></tr><tr><td>Crime</td><td>Ended</td><td>275</td><td>61.8</td></tr><tr><td>Crime</td><td>Returning Series</td><td>86</td><td>19.3</td></tr><tr><td>Crime</td><td>Canceled</td><td>84</td><td>18.9</td></tr><tr><td>Documentary</td><td>Ended</td><td>84</td><td>79.2</td></tr><tr><td>Documentary</td><td>Returning Series</td><td>17</td><td>16.0</td></tr><tr><td>Documentary</td><td>Canceled</td><td>5</td><td>4.7</td></tr><tr><td>Drama</td><td>Ended</td><td>1139</td><td>65.2</td></tr><tr><td>Drama</td><td>Canceled</td><td>339</td><td>19.4</td></tr><tr><td>Drama</td><td>Returning Series</td><td>269</td><td>15.4</td></tr><tr><td>Family</td><td>Ended</td><td>170</td><td>74.2</td></tr><tr><td>Family</td><td>Returning Series</td><td>36</td><td>15.7</td></tr><tr><td>Family</td><td>Canceled</td><td>23</td><td>10.0</td></tr><tr><td>Kids</td><td>Ended</td><td>132</td><td>83.5</td></tr><tr><td>Kids</td><td>Returning Series</td><td>15</td><td>9.5</td></tr><tr><td>Kids</td><td>Canceled</td><td>11</td><td>7.0</td></tr><tr><td>Mystery</td><td>Ended</td><td>312</td><td>66.0</td></tr><tr><td>Mystery</td><td>Canceled</td><td>99</td><td>20.9</td></tr><tr><td>Mystery</td><td>Returning Series</td><td>62</td><td>13.1</td></tr><tr><td>Sci-Fi & Fantasy</td><td>Ended</td><td>581</td><td>64.1</td></tr><tr><td>Sci-Fi & Fantasy</td><td>Canceled</td><td>202</td><td>22.3</td></tr><tr><td>Sci-Fi & Fantasy</td><td>Returning Series</td><td>123</td><td>13.6</td></tr></tbody></table></div>"
      ]
     },
     "metadata": {
      "application/vnd.databricks.v1+output": {
       "addedWidgets": {},
       "aggData": [],
       "aggError": "",
       "aggOverflow": false,
       "aggSchema": [],
       "aggSeriesLimitReached": false,
       "aggType": "",
       "arguments": {},
       "columnCustomDisplayInfos": {},
       "data": [
        [
         "Action & Adventure",
         "Ended",
         533,
         "68.0"
        ],
        [
         "Action & Adventure",
         "Returning Series",
         129,
         "16.5"
        ],
        [
         "Action & Adventure",
         "Canceled",
         122,
         "15.6"
        ],
        [
         "Animation",
         "Ended",
         627,
         "80.1"
        ],
        [
         "Animation",
         "Returning Series",
         121,
         "15.5"
        ],
        [
         "Animation",
         "Canceled",
         35,
         "4.5"
        ],
        [
         "Comedy",
         "Ended",
         762,
         "73.2"
        ],
        [
         "Comedy",
         "Returning Series",
         147,
         "14.1"
        ],
        [
         "Comedy",
         "Canceled",
         132,
         "12.7"
        ],
        [
         "Crime",
         "Ended",
         275,
         "61.8"
        ],
        [
         "Crime",
         "Returning Series",
         86,
         "19.3"
        ],
        [
         "Crime",
         "Canceled",
         84,
         "18.9"
        ],
        [
         "Documentary",
         "Ended",
         84,
         "79.2"
        ],
        [
         "Documentary",
         "Returning Series",
         17,
         "16.0"
        ],
        [
         "Documentary",
         "Canceled",
         5,
         "4.7"
        ],
        [
         "Drama",
         "Ended",
         1139,
         "65.2"
        ],
        [
         "Drama",
         "Canceled",
         339,
         "19.4"
        ],
        [
         "Drama",
         "Returning Series",
         269,
         "15.4"
        ],
        [
         "Family",
         "Ended",
         170,
         "74.2"
        ],
        [
         "Family",
         "Returning Series",
         36,
         "15.7"
        ],
        [
         "Family",
         "Canceled",
         23,
         "10.0"
        ],
        [
         "Kids",
         "Ended",
         132,
         "83.5"
        ],
        [
         "Kids",
         "Returning Series",
         15,
         "9.5"
        ],
        [
         "Kids",
         "Canceled",
         11,
         "7.0"
        ],
        [
         "Mystery",
         "Ended",
         312,
         "66.0"
        ],
        [
         "Mystery",
         "Canceled",
         99,
         "20.9"
        ],
        [
         "Mystery",
         "Returning Series",
         62,
         "13.1"
        ],
        [
         "Sci-Fi & Fantasy",
         "Ended",
         581,
         "64.1"
        ],
        [
         "Sci-Fi & Fantasy",
         "Canceled",
         202,
         "22.3"
        ],
        [
         "Sci-Fi & Fantasy",
         "Returning Series",
         123,
         "13.6"
        ]
       ],
       "datasetInfos": [],
       "dbfsResultPath": null,
       "isJsonSchema": true,
       "metadata": {},
       "overflow": false,
       "plotOptions": {
        "customPlotOptions": {},
        "displayType": "table",
        "pivotAggregation": null,
        "pivotColumns": null,
        "xColumns": null,
        "yColumns": null
       },
       "removedWidgets": [],
       "schema": [
        {
         "metadata": "{\"comment\":\"Gênero associado à série\"}",
         "name": "genre",
         "type": "\"string\""
        },
        {
         "metadata": "{\"comment\":\"Status de produção (Ended, Returning Series, Canceled, Unknown, etc.)\"}",
         "name": "status",
         "type": "\"string\""
        },
        {
         "metadata": "{}",
         "name": "num_series",
         "type": "\"long\""
        },
        {
         "metadata": "{}",
         "name": "percent_of_genre",
         "type": "\"decimal(26,1)\""
        }
       ],
       "type": "table"
      }
     },
     "output_type": "display_data"
    },
    {
     "output_type": "display_data",
     "data": {
      "text/plain": [
       "Databricks visualization. Run in Databricks to view."
      ]
     },
     "metadata": {
      "application/vnd.databricks.v1.subcommand+json": {
       "baseErrorDetails": null,
       "bindings": {},
       "collapsed": false,
       "command": "%sql WITH q AS (SELECT * FROM gold.status_by_genre_analysis ORDER BY genre, percent_of_genre DESC) SELECT `genre`,SUM(`num_series`) `column_f293378a93` FROM q GROUP BY `genre`",
       "commandTitle": "Gráfico",
       "commandType": "auto",
       "commandVersion": 0,
       "commentThread": [],
       "commentsVisible": false,
       "contentSha256Hex": null,
       "customPlotOptions": {
        "redashChart": [
         {
          "key": "type",
          "value": "CHART"
         },
         {
          "key": "options",
          "value": {
           "alignYAxesAtZero": true,
           "coefficient": 1,
           "columnConfigurationMap": {
            "x": {
             "column": "genre",
             "id": "column_f293378a91"
            },
            "y": [
             {
              "column": "num_series",
              "id": "column_f293378a93",
              "transform": "SUM"
             }
            ]
           },
           "dateTimeFormat": "DD/MM/YYYY HH:mm",
           "direction": {
            "type": "counterclockwise"
           },
           "error_y": {
            "type": "data",
            "visible": true
           },
           "globalSeriesType": "column",
           "isAggregationOn": true,
           "legend": {
            "traceorder": "normal"
           },
           "missingValuesAsZero": true,
           "numberFormat": "0,0.[00000]",
           "percentFormat": "0[.]00%",
           "series": {
            "error_y": {
             "type": "data",
             "visible": true
            },
            "percentValues": false,
            "stacking": ""
           },
           "seriesOptions": {
            "column_f293378a93": {
             "type": "column",
             "yAxis": 0
            }
           },
           "showDataLabels": false,
           "sizemode": "diameter",
           "sortX": true,
           "sortY": true,
           "swappedAxes": false,
           "textFormat": "",
           "useAggregationsUi": true,
           "valuesOptions": {},
           "version": 2,
           "xAxis": {
            "labels": {
             "enabled": true
            },
            "type": "-"
           },
           "yAxis": [
            {
             "type": "-"
            },
            {
             "opposite": true,
             "type": "-"
            }
           ]
          }
         }
        ]
       },
       "datasetPreviewNameToCmdIdMap": {},
       "diffDeletes": [],
       "diffInserts": [],
       "displayType": "redashChart",
       "error": null,
       "errorDetails": null,
       "errorSummary": null,
       "errorTraceType": null,
       "finishTime": 0,
       "globalVars": {},
       "guid": "",
       "height": "auto",
       "hideCommandCode": false,
       "hideCommandResult": false,
       "iPythonMetadata": null,
       "inputWidgets": {},
       "isLockedInExamMode": false,
       "latestUser": "a user",
       "latestUserId": null,
       "listResultMetadata": null,
       "metadata": {},
       "nuid": "b09a81e2-8537-4a34-ad65-ec05f907b4d8",
       "origId": 0,
       "parentHierarchy": [],
       "pivotAggregation": null,
       "pivotColumns": null,
       "position": 39.0,
       "resultDbfsErrorMessage": null,
       "resultDbfsStatus": "INLINED_IN_TREE",
       "results": null,
       "showCommandTitle": false,
       "startTime": 0,
       "state": "input",
       "streamStates": {},
       "subcommandOptions": {
        "queryPlan": {
         "groups": [
          {
           "column": "genre",
           "type": "column"
          }
         ],
         "selects": [
          {
           "column": "genre",
           "type": "column"
          },
          {
           "alias": "column_f293378a93",
           "args": [
            {
             "column": "num_series",
             "type": "column"
            }
           ],
           "function": "SUM",
           "type": "function"
          }
         ]
        }
       },
       "submitTime": 0,
       "subtype": "tableResultSubCmd.visualization",
       "tableResultIndex": 0,
       "tableResultSettingsMap": {},
       "useConsistentColors": false,
       "version": "CommandV1",
       "width": "auto",
       "workflows": [],
       "xColumns": null,
       "yColumns": null
      }
     },
     "output_type": "display_data"
    }
   ],
   "source": [
    "%sql\n",
    "SELECT * FROM gold.status_by_genre_analysis ORDER BY genre, percent_of_genre DESC;\n"
   ]
  },
  {
   "cell_type": "markdown",
   "metadata": {
    "application/vnd.databricks.v1+cell": {
     "cellMetadata": {},
     "inputWidgets": {},
     "nuid": "4dca3f9e-07e4-489e-a628-54e4655d2e8b",
     "showTitle": false,
     "tableResultSettingsMap": {},
     "title": ""
    }
   },
   "source": [
    "#### **Insights: Proporção de Status por Gênero**\n",
    "\n",
    "*   **Cancelamento:** Gêneros como Sci-Fi & Fantasy e, por vezes, Drama, tendem a ter taxas de cancelamento mais altas, possivelmente devido a custos de produção elevados ou dificuldade em manter a audiência a longo prazo.\n",
    "*   **Longevidade:** Comédias e Animações parecem ter uma proporção maior de séries que chegam ao status \"Ended\" (finalizadas naturalmente), sugerindo talvez uma estrutura narrativa que permite conclusões mais planejadas ou maior resiliência na audiência. Documentários, por natureza, também tendem a ser \"Ended\".\n",
    "*   **Em Produção (Returning):** A proporção de séries \"Returning Series\" indica a saúde atual e o investimento contínuo em um gênero. Gêneros populares como Ação & Aventura e Crime podem mostrar uma boa quantidade de séries retornando.\n",
    "*   **Risco vs. Recompensa:** Investir em Sci-Fi pode ser arriscado (alta taxa de cancelamento), mas as séries de sucesso podem gerar grande engajamento. Comédias parecem um investimento mais seguro em termos de conclusão planejada.\n",
    "*   **Recomendação:** Avaliar o risco de cancelamento ao aprovar novas séries, especialmente em gêneros de alto custo/risco. Balancear o portfólio com gêneros mais \"seguros\" (Comédia) e apostas de alto potencial (Sci-Fi, Drama de nicho).\n"
   ]
  },
  {
   "cell_type": "markdown",
   "metadata": {
    "application/vnd.databricks.v1+cell": {
     "cellMetadata": {},
     "inputWidgets": {},
     "nuid": "f8de8f28-fc50-4515-8c3c-0427774d769f",
     "showTitle": false,
     "tableResultSettingsMap": {},
     "title": ""
    }
   },
   "source": [
    "### 4.5. Análise 5: Impacto do Idioma Original\n",
    "\n",
    "Qual o impacto do idioma original na popularidade e avaliação global das séries?\n"
   ]
  },
  {
   "cell_type": "code",
   "execution_count": 0,
   "metadata": {
    "application/vnd.databricks.v1+cell": {
     "cellMetadata": {
      "byteLimit": 2048000,
      "implicitDf": true,
      "rowLimit": 10000
     },
     "inputWidgets": {},
     "nuid": "fe6b3959-fe61-4397-8f61-0be34dedb995",
     "showTitle": true,
     "tableResultSettingsMap": {},
     "title": "Análise 5 - query"
    }
   },
   "outputs": [
    {
     "output_type": "display_data",
     "data": {
      "text/html": [
       "<style scoped>\n",
       "  .table-result-container {\n",
       "    max-height: 300px;\n",
       "    overflow: auto;\n",
       "  }\n",
       "  table, th, td {\n",
       "    border: 1px solid black;\n",
       "    border-collapse: collapse;\n",
       "  }\n",
       "  th, td {\n",
       "    padding: 5px;\n",
       "  }\n",
       "  th {\n",
       "    text-align: left;\n",
       "  }\n",
       "</style><div class='table-result-container'><table class='table-result'><thead style='background-color: white'><tr><th>num_affected_rows</th><th>num_inserted_rows</th></tr></thead><tbody></tbody></table></div>"
      ]
     },
     "metadata": {
      "application/vnd.databricks.v1+output": {
       "addedWidgets": {},
       "aggData": [],
       "aggError": "",
       "aggOverflow": false,
       "aggSchema": [],
       "aggSeriesLimitReached": false,
       "aggType": "",
       "arguments": {},
       "columnCustomDisplayInfos": {},
       "data": [],
       "datasetInfos": [],
       "dbfsResultPath": null,
       "isJsonSchema": true,
       "metadata": {},
       "overflow": false,
       "plotOptions": {
        "customPlotOptions": {},
        "displayType": "table",
        "pivotAggregation": null,
        "pivotColumns": null,
        "xColumns": null,
        "yColumns": null
       },
       "removedWidgets": [],
       "schema": [
        {
         "metadata": "{}",
         "name": "num_affected_rows",
         "type": "\"long\""
        },
        {
         "metadata": "{}",
         "name": "num_inserted_rows",
         "type": "\"long\""
        }
       ],
       "type": "table"
      }
     },
     "output_type": "display_data"
    }
   ],
   "source": [
    "%sql\n",
    "CREATE OR REPLACE TABLE gold.language_impact_analysis\n",
    "USING delta\n",
    "COMMENT 'Análise do impacto do idioma original na popularidade e avaliação média. Inclui apenas idiomas com mais de 30 séries.'\n",
    "AS\n",
    "SELECT\n",
    "  original_language,\n",
    "  ROUND(AVG(popularity), 1) AS avg_popularity,\n",
    "  ROUND(AVG(vote_average), 1) AS avg_rating,\n",
    "  COUNT(*) AS num_series\n",
    "FROM silver.fact_series\n",
    "WHERE original_language IS NOT NULL AND original_language != ''\n",
    "GROUP BY original_language\n",
    "HAVING COUNT(*) >= 30  -- Filtra idiomas com relevância estatística na base filtrada\n",
    "ORDER BY avg_popularity DESC;\n"
   ]
  },
  {
   "cell_type": "code",
   "execution_count": 0,
   "metadata": {
    "application/vnd.databricks.v1+cell": {
     "cellMetadata": {
      "byteLimit": 2048000,
      "implicitDf": true,
      "rowLimit": 10000
     },
     "inputWidgets": {},
     "nuid": "c4258a8b-b5d5-41c6-b829-92efc3a2ea7f",
     "showTitle": true,
     "tableResultSettingsMap": {},
     "title": "Visualiza o resultado da análise de idioma (Popularidade)"
    }
   },
   "outputs": [
    {
     "output_type": "display_data",
     "data": {
      "text/html": [
       "<style scoped>\n",
       "  .table-result-container {\n",
       "    max-height: 300px;\n",
       "    overflow: auto;\n",
       "  }\n",
       "  table, th, td {\n",
       "    border: 1px solid black;\n",
       "    border-collapse: collapse;\n",
       "  }\n",
       "  th, td {\n",
       "    padding: 5px;\n",
       "  }\n",
       "  th {\n",
       "    text-align: left;\n",
       "  }\n",
       "</style><div class='table-result-container'><table class='table-result'><thead style='background-color: white'><tr><th>original_language</th><th>avg_popularity</th><th>avg_rating</th><th>num_series</th></tr></thead><tbody><tr><td>en</td><td>90.2</td><td>7.5</td><td>1944</td></tr><tr><td>fr</td><td>45.2</td><td>7.4</td><td>30</td></tr><tr><td>es</td><td>44.7</td><td>7.6</td><td>335</td></tr><tr><td>ja</td><td>41.9</td><td>8.1</td><td>440</td></tr><tr><td>ko</td><td>31.9</td><td>8.2</td><td>116</td></tr></tbody></table></div>"
      ]
     },
     "metadata": {
      "application/vnd.databricks.v1+output": {
       "addedWidgets": {},
       "aggData": [],
       "aggError": "",
       "aggOverflow": false,
       "aggSchema": [],
       "aggSeriesLimitReached": false,
       "aggType": "",
       "arguments": {},
       "columnCustomDisplayInfos": {},
       "data": [
        [
         "en",
         90.2,
         7.5,
         1944
        ],
        [
         "fr",
         45.2,
         7.4,
         30
        ],
        [
         "es",
         44.7,
         7.6,
         335
        ],
        [
         "ja",
         41.9,
         8.1,
         440
        ],
        [
         "ko",
         31.9,
         8.2,
         116
        ]
       ],
       "datasetInfos": [],
       "dbfsResultPath": null,
       "isJsonSchema": true,
       "metadata": {},
       "overflow": false,
       "plotOptions": {
        "customPlotOptions": {},
        "displayType": "table",
        "pivotAggregation": null,
        "pivotColumns": null,
        "xColumns": null,
        "yColumns": null
       },
       "removedWidgets": [],
       "schema": [
        {
         "metadata": "{\"comment\":\"Idioma original da produção (código ISO 639-1)\"}",
         "name": "original_language",
         "type": "\"string\""
        },
        {
         "metadata": "{}",
         "name": "avg_popularity",
         "type": "\"double\""
        },
        {
         "metadata": "{}",
         "name": "avg_rating",
         "type": "\"double\""
        },
        {
         "metadata": "{}",
         "name": "num_series",
         "type": "\"long\""
        }
       ],
       "type": "table"
      }
     },
     "output_type": "display_data"
    },
    {
     "output_type": "display_data",
     "data": {
      "text/plain": [
       "Databricks visualization. Run in Databricks to view."
      ]
     },
     "metadata": {
      "application/vnd.databricks.v1.subcommand+json": {
       "baseErrorDetails": null,
       "bindings": {},
       "collapsed": false,
       "command": "%sql WITH q AS (SELECT * FROM gold.language_impact_analysis ORDER BY avg_popularity DESC LIMIT 10) SELECT `avg_popularity`,`avg_rating`,`original_language` FROM q",
       "commandTitle": "Gráfico",
       "commandType": "auto",
       "commandVersion": 0,
       "commentThread": [],
       "commentsVisible": false,
       "contentSha256Hex": null,
       "customPlotOptions": {
        "redashChart": [
         {
          "key": "type",
          "value": "CHART"
         },
         {
          "key": "options",
          "value": {
           "alignYAxesAtZero": true,
           "coefficient": 1,
           "columnConfigurationMap": {
            "series": {
             "column": "original_language",
             "id": "column_f293378a97"
            },
            "x": {
             "column": "avg_popularity",
             "id": "column_f293378a95"
            },
            "y": [
             {
              "column": "avg_rating",
              "id": "column_f293378a96"
             }
            ]
           },
           "dateTimeFormat": "DD/MM/YYYY HH:mm",
           "direction": {
            "type": "counterclockwise"
           },
           "error_y": {
            "type": "data",
            "visible": true
           },
           "globalSeriesType": "scatter",
           "legend": {
            "traceorder": "normal"
           },
           "missingValuesAsZero": true,
           "numberFormat": "0,0.[00000]",
           "percentFormat": "0[.]00%",
           "series": {
            "error_y": {
             "type": "data",
             "visible": true
            },
            "stacking": null
           },
           "seriesOptions": {
            "avg_rating": {
             "type": "scatter",
             "yAxis": 0
            },
            "en": {
             "name": "Inglês"
            },
            "es": {
             "name": "Espanhol"
            },
            "fr": {
             "name": "Francês"
            },
            "ja": {
             "name": "Japonês"
            },
            "ko": {
             "name": "Coreano"
            }
           },
           "showDataLabels": false,
           "sizemode": "diameter",
           "sortX": true,
           "sortY": true,
           "swappedAxes": false,
           "textFormat": "",
           "useAggregationsUi": true,
           "valuesOptions": {},
           "version": 2,
           "xAxis": {
            "labels": {
             "enabled": true
            },
            "type": "-"
           },
           "yAxis": [
            {
             "type": "-"
            },
            {
             "opposite": true,
             "type": "-"
            }
           ]
          }
         }
        ]
       },
       "datasetPreviewNameToCmdIdMap": {},
       "diffDeletes": [],
       "diffInserts": [],
       "displayType": "redashChart",
       "error": null,
       "errorDetails": null,
       "errorSummary": null,
       "errorTraceType": null,
       "finishTime": 0,
       "globalVars": {},
       "guid": "",
       "height": "auto",
       "hideCommandCode": false,
       "hideCommandResult": false,
       "iPythonMetadata": null,
       "inputWidgets": {},
       "isLockedInExamMode": false,
       "latestUser": "a user",
       "latestUserId": null,
       "listResultMetadata": null,
       "metadata": {},
       "nuid": "6e9df6b8-a15e-48b4-8a38-57759725084c",
       "origId": 0,
       "parentHierarchy": [],
       "pivotAggregation": null,
       "pivotColumns": null,
       "position": 43.0,
       "resultDbfsErrorMessage": null,
       "resultDbfsStatus": "INLINED_IN_TREE",
       "results": null,
       "showCommandTitle": false,
       "startTime": 0,
       "state": "input",
       "streamStates": {},
       "subcommandOptions": {
        "queryPlan": {
         "selects": [
          {
           "column": "avg_popularity",
           "type": "column"
          },
          {
           "column": "avg_rating",
           "type": "column"
          },
          {
           "column": "original_language",
           "type": "column"
          }
         ]
        }
       },
       "submitTime": 0,
       "subtype": "tableResultSubCmd.visualization",
       "tableResultIndex": 0,
       "tableResultSettingsMap": {},
       "useConsistentColors": false,
       "version": "CommandV1",
       "width": "auto",
       "workflows": [],
       "xColumns": null,
       "yColumns": null
      }
     },
     "output_type": "display_data"
    }
   ],
   "source": [
    "%sql\n",
    "SELECT * FROM gold.language_impact_analysis ORDER BY avg_popularity DESC LIMIT 10;\n"
   ]
  },
  {
   "cell_type": "code",
   "execution_count": 0,
   "metadata": {
    "application/vnd.databricks.v1+cell": {
     "cellMetadata": {
      "byteLimit": 2048000,
      "implicitDf": true,
      "rowLimit": 10000
     },
     "inputWidgets": {},
     "nuid": "6c175bf2-cd76-41a9-a782-e200ff93b8b6",
     "showTitle": true,
     "tableResultSettingsMap": {},
     "title": "Visualiza o resultado da análise de idioma (Avaliação))"
    }
   },
   "outputs": [
    {
     "output_type": "display_data",
     "data": {
      "text/html": [
       "<style scoped>\n",
       "  .table-result-container {\n",
       "    max-height: 300px;\n",
       "    overflow: auto;\n",
       "  }\n",
       "  table, th, td {\n",
       "    border: 1px solid black;\n",
       "    border-collapse: collapse;\n",
       "  }\n",
       "  th, td {\n",
       "    padding: 5px;\n",
       "  }\n",
       "  th {\n",
       "    text-align: left;\n",
       "  }\n",
       "</style><div class='table-result-container'><table class='table-result'><thead style='background-color: white'><tr><th>original_language</th><th>avg_popularity</th><th>avg_rating</th><th>num_series</th></tr></thead><tbody><tr><td>ko</td><td>31.9</td><td>8.2</td><td>116</td></tr><tr><td>ja</td><td>41.9</td><td>8.1</td><td>440</td></tr><tr><td>es</td><td>44.7</td><td>7.6</td><td>335</td></tr><tr><td>en</td><td>90.2</td><td>7.5</td><td>1944</td></tr><tr><td>fr</td><td>45.2</td><td>7.4</td><td>30</td></tr></tbody></table></div>"
      ]
     },
     "metadata": {
      "application/vnd.databricks.v1+output": {
       "addedWidgets": {},
       "aggData": [],
       "aggError": "",
       "aggOverflow": false,
       "aggSchema": [],
       "aggSeriesLimitReached": false,
       "aggType": "",
       "arguments": {},
       "columnCustomDisplayInfos": {},
       "data": [
        [
         "ko",
         31.9,
         8.2,
         116
        ],
        [
         "ja",
         41.9,
         8.1,
         440
        ],
        [
         "es",
         44.7,
         7.6,
         335
        ],
        [
         "en",
         90.2,
         7.5,
         1944
        ],
        [
         "fr",
         45.2,
         7.4,
         30
        ]
       ],
       "datasetInfos": [],
       "dbfsResultPath": null,
       "isJsonSchema": true,
       "metadata": {},
       "overflow": false,
       "plotOptions": {
        "customPlotOptions": {},
        "displayType": "table",
        "pivotAggregation": null,
        "pivotColumns": null,
        "xColumns": null,
        "yColumns": null
       },
       "removedWidgets": [],
       "schema": [
        {
         "metadata": "{\"comment\":\"Idioma original da produção (código ISO 639-1)\"}",
         "name": "original_language",
         "type": "\"string\""
        },
        {
         "metadata": "{}",
         "name": "avg_popularity",
         "type": "\"double\""
        },
        {
         "metadata": "{}",
         "name": "avg_rating",
         "type": "\"double\""
        },
        {
         "metadata": "{}",
         "name": "num_series",
         "type": "\"long\""
        }
       ],
       "type": "table"
      }
     },
     "output_type": "display_data"
    },
    {
     "output_type": "display_data",
     "data": {
      "text/plain": [
       "Databricks visualization. Run in Databricks to view."
      ]
     },
     "metadata": {
      "application/vnd.databricks.v1.subcommand+json": {
       "baseErrorDetails": null,
       "bindings": {},
       "collapsed": false,
       "command": "%sql WITH q AS (SELECT * FROM gold.language_impact_analysis ORDER BY avg_rating DESC LIMIT 10) SELECT `avg_popularity`,`avg_rating`,`original_language` FROM q",
       "commandTitle": "Gráfico",
       "commandType": "auto",
       "commandVersion": 0,
       "commentThread": [],
       "commentsVisible": false,
       "contentSha256Hex": null,
       "customPlotOptions": {
        "redashChart": [
         {
          "key": "type",
          "value": "CHART"
         },
         {
          "key": "options",
          "value": {
           "alignYAxesAtZero": true,
           "coefficient": 1,
           "columnConfigurationMap": {
            "series": {
             "column": "original_language",
             "id": "column_f293378a102"
            },
            "x": {
             "column": "avg_popularity",
             "id": "column_f293378a99"
            },
            "y": [
             {
              "column": "avg_rating",
              "id": "column_f293378a100"
             }
            ]
           },
           "dateTimeFormat": "DD/MM/YYYY HH:mm",
           "direction": {
            "type": "counterclockwise"
           },
           "error_y": {
            "type": "data",
            "visible": true
           },
           "globalSeriesType": "scatter",
           "legend": {
            "traceorder": "normal"
           },
           "missingValuesAsZero": true,
           "numberFormat": "0,0.[00000]",
           "percentFormat": "0[.]00%",
           "series": {
            "error_y": {
             "type": "data",
             "visible": true
            },
            "stacking": null
           },
           "seriesOptions": {
            "avg_rating": {
             "type": "scatter",
             "yAxis": 0
            },
            "en": {
             "name": "Inglês"
            },
            "es": {
             "name": "Espanhol"
            },
            "fr": {
             "name": "Francês"
            },
            "ja": {
             "name": "Japonês"
            },
            "ko": {
             "name": "Coreano"
            }
           },
           "showDataLabels": false,
           "sizemode": "diameter",
           "sortX": true,
           "sortY": true,
           "swappedAxes": false,
           "textFormat": "",
           "useAggregationsUi": true,
           "valuesOptions": {},
           "version": 2,
           "xAxis": {
            "labels": {
             "enabled": true
            },
            "type": "-"
           },
           "yAxis": [
            {
             "type": "-"
            },
            {
             "opposite": true,
             "type": "-"
            }
           ]
          }
         }
        ]
       },
       "datasetPreviewNameToCmdIdMap": {},
       "diffDeletes": [],
       "diffInserts": [],
       "displayType": "redashChart",
       "error": null,
       "errorDetails": null,
       "errorSummary": null,
       "errorTraceType": null,
       "finishTime": 0,
       "globalVars": {},
       "guid": "",
       "height": "auto",
       "hideCommandCode": false,
       "hideCommandResult": false,
       "iPythonMetadata": null,
       "inputWidgets": {},
       "isLockedInExamMode": false,
       "latestUser": "a user",
       "latestUserId": null,
       "listResultMetadata": null,
       "metadata": {},
       "nuid": "ad57f587-8a50-43bc-b024-6cc5cda86303",
       "origId": 0,
       "parentHierarchy": [],
       "pivotAggregation": null,
       "pivotColumns": null,
       "position": 44.0,
       "resultDbfsErrorMessage": null,
       "resultDbfsStatus": "INLINED_IN_TREE",
       "results": null,
       "showCommandTitle": false,
       "startTime": 0,
       "state": "input",
       "streamStates": {},
       "subcommandOptions": {
        "queryPlan": {
         "selects": [
          {
           "column": "avg_popularity",
           "type": "column"
          },
          {
           "column": "avg_rating",
           "type": "column"
          },
          {
           "column": "original_language",
           "type": "column"
          }
         ]
        }
       },
       "submitTime": 0,
       "subtype": "tableResultSubCmd.visualization",
       "tableResultIndex": 0,
       "tableResultSettingsMap": {},
       "useConsistentColors": false,
       "version": "CommandV1",
       "width": "auto",
       "workflows": [],
       "xColumns": null,
       "yColumns": null
      }
     },
     "output_type": "display_data"
    }
   ],
   "source": [
    "%sql\n",
    "SELECT * FROM gold.language_impact_analysis ORDER BY avg_rating DESC LIMIT 10;"
   ]
  },
  {
   "cell_type": "markdown",
   "metadata": {
    "application/vnd.databricks.v1+cell": {
     "cellMetadata": {},
     "inputWidgets": {},
     "nuid": "0c8ee32b-acb6-4a35-b712-6bf00db3a1dd",
     "showTitle": false,
     "tableResultSettingsMap": {},
     "title": ""
    }
   },
   "source": [
    "#### **Insights: Impacto do Idioma Original**\n",
    "\n",
    "*   **Domínio do Inglês (Popularidade):** Séries em inglês (en) dominam amplamente em popularidade média, refletindo a força do mercado anglófono e a distribuição global dessas produções.\n",
    "*   **Qualidade em Outros Idiomas:** Idiomas como Coreano (ko) e Japonês (ja) frequentemente apresentam as maiores médias de avaliação, indicando alta qualidade percebida em animes e K-dramas, mesmo que sua popularidade média global seja menor que a do inglês.\n",
    "*   **Potencial Emergente:** Idiomas como Espanhol (es) mostram um volume considerável de produções e avaliações boas, indicando um mercado forte e com potencial de crescimento global (vide sucessos como La Casa de Papel). Francês (fr) também aparece com boas métricas.\n",
    "*   **Barreiras:** A menor popularidade média de idiomas não-ingleses pode ser devido a barreiras linguísticas, menor investimento em marketing global ou distribuição mais restrita historicamente.\n",
    "*   **Recomendação:** Investir na aquisição e promoção de conteúdo de alta qualidade em idiomas não-ingleses (especialmente ko, ja, es) pode ser um diferencial. Melhorar dublagens/legendas e marketing direcionado pode aumentar a popularidade global dessas séries. Para produções em inglês, o desafio é manter a qualidade média alta apesar do grande volume.\n",
    "\n",
    "---\n"
   ]
  },
  {
   "cell_type": "markdown",
   "metadata": {
    "application/vnd.databricks.v1+cell": {
     "cellMetadata": {
      "byteLimit": 2048000,
      "rowLimit": 10000
     },
     "inputWidgets": {},
     "nuid": "474b44a9-57c0-4180-aecf-a25ed649be4d",
     "showTitle": false,
     "tableResultSettingsMap": {},
     "title": ""
    }
   },
   "source": [
    "## Conclusão e Aprendizados\n",
    "\n",
    "Este MVP foi, sem dúvida, uma jornada de aprendizado intensa sobre a construção de um pipeline de dados ponta a ponta. Realizá-lo me permitiu aplicar na prática a arquitetura Medalhão (Bronze, Silver, Gold), enfrentando ao mesmo tempo as particularidades e limitações de se trabalhar na plataforma gratuita do Databricks Community.\n",
    "\n",
    "Trabalhar no Databricks Community apresentou desafios únicos, que talvez não ocorressem em plataformas pagas (como Databricks completo, AWS, Azure). Principalmente, a necessidade de lidar com os desligamentos automáticos dos clusters após períodos de inatividade foi constante. Foi preciso recriar clusters diversas vezes (cerca de 11 para concluir o MVP!) e, crucialmente, adaptar o início do notebook para garantir um ambiente limpo a cada execução. A solução implementada (`DROP DATABASE IF EXISTS ... CASCADE`) foi essencial para superar problemas com metadados que persistiam mesmo após o cluster ser desligado, garantindo que as tabelas pudessem ser recriadas sem conflitos. Essa experiência foi uma lição valiosa sobre como construir resiliência em pipelines sujeitos a ambientes instáveis.\n",
    "\n",
    "Além dos desafios técnicos da plataforma, enfrentei a curva de aprendizado natural de quem está migrando para a área de dados, vindo de um contato prévio mais centrado em ferramentas como o Excel. Foram necessárias muitas horas de estudo dedicado – revisando o material da sprint, buscando tutoriais no YouTube, fazendo cursos na Udemy e consultando diversas outras fontes – para assimilar os conceitos de Spark (SQL e PySpark), Delta Lake, modelagem dimensional e as melhores práticas de engenharia de dados. Foi um grande desafio pessoal, e sinto uma grande satisfação por ter concluído este projeto apesar de todas as dificuldades.\n",
    "\n",
    "---\n",
    "\n",
    "### **Objetivos Alcançados:**\n",
    "\n",
    "*   **Pipeline Completo:** Construí com sucesso o pipeline de dados seguindo a arquitetura Medalhão, com schemas `bronze`, `silver` e `gold` bem definidos e tabelas Delta Lake em cada camada.\n",
    "*   **Respostas de Negócio:** As perguntas de negócio propostas inicialmente foram respondidas através de análises materializadas em tabelas na camada Gold (`gold.genre_performance_analysis`, `gold.season_impact_analysis`, etc.).\n",
    "*   **Documentação Clara:** O processo foi documentado no notebook usando células Markdown e comentários no código, explicando a lógica e o propósito de cada etapa.\n",
    "\n",
    "### **Principais Dificuldades Superadas:**\n",
    "\n",
    "*   **Inconsistências nos Dados:** Lidar com dados brutos que apresentavam inconsistências (ex: nomes variados para a mesma plataforma, múltiplos formatos em colunas de texto livre que precisaram ser normalizadas como `genres`, `networks`, `production_companies`, tratamento de nulos e datas).\n",
    "*   **Instabilidade do Ambiente:** Adaptar o fluxo de trabalho e o código para contornar as limitações do Databricks Community, especialmente o desligamento automático dos clusters e a necessidade de garantir a limpeza do ambiente a cada execução.\n",
    "*   **Refinamento das Análises:** Interpretar resultados intermediários e ajustar as queries SQL para garantir que as agregações e métricas na camada Gold fossem precisas e respondessem corretamente às perguntas propostas.\n",
    "*   **Curva de Aprendizado:** Absorver e aplicar efetivamente os conceitos e ferramentas da engenharia de dados moderna (Spark, Delta Lake, SQL avançado, modelagem dimensional) partindo de uma base diferente.\n",
    "\n",
    "---\n",
    "\n",
    "### **Encerramento**\n",
    "\n",
    "Foi desafiador, mas concluir este MVP me mostrou que sou capaz de lidar com as complexidades de projetar e implementar um pipeline de dados real. A experiência de superar os obstáculos técnicos da plataforma gratuita e a curva de aprendizado das ferramentas reforçou minha resiliência e capacidade de adaptação. Mais do que o código final ou as tabelas geradas, levo comigo a confiança de que posso aprender e aplicar novas tecnologias e conceitos, dividindo problemas complexos em partes gerenciáveis e persistindo na busca por soluções eficazes."
   ]
  },
  {
   "cell_type": "code",
   "execution_count": 0,
   "metadata": {
    "application/vnd.databricks.v1+cell": {
     "cellMetadata": {},
     "inputWidgets": {},
     "nuid": "a78eeb34-65ee-436e-9791-de5b56fdd824",
     "showTitle": false,
     "tableResultSettingsMap": {},
     "title": ""
    }
   },
   "outputs": [],
   "source": []
  }
 ],
 "metadata": {
  "application/vnd.databricks.v1+notebook": {
   "computePreferences": null,
   "dashboards": [],
   "environmentMetadata": {
    "base_environment": "",
    "environment_version": "1"
   },
   "inputWidgetPreferences": null,
   "language": "python",
   "notebookMetadata": {
    "mostRecentlyExecutedCommandWithImplicitDF": {
     "commandId": 2215141480972282,
     "dataframes": [
      "_sqldf"
     ]
    },
    "pythonIndentUnit": 4
   },
   "notebookName": "mvp_eng_dados_notebook",
   "widgets": {}
  }
 },
 "nbformat": 4,
 "nbformat_minor": 0
}